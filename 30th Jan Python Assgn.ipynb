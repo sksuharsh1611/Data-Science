{
 "cells": [
  {
   "cell_type": "code",
   "execution_count": 8,
   "id": "740f5fc5-ccb9-4f8a-a668-765d91190b23",
   "metadata": {},
   "outputs": [
    {
     "name": "stdin",
     "output_type": "stream",
     "text": [
      "Enter your marks: 79\n"
     ]
    },
    {
     "name": "stdout",
     "output_type": "stream",
     "text": [
      "Grade C\n"
     ]
    }
   ],
   "source": [
    "# Solution 1:\n",
    "marks = int(input(\"Enter your marks:\"))\n",
    "if marks > 90:\n",
    "    print(\"Grade A\")\n",
    "elif marks > 80 and marks <= 90:\n",
    "    print(\"Grade B\")\n",
    "elif marks >= 60 and marks <= 80:\n",
    "    print(\"Grade C\")\n",
    "else:\n",
    "    print(\"Grade D\")        "
   ]
  },
  {
   "cell_type": "code",
   "execution_count": null,
   "id": "ffb60c58-7155-4997-a9aa-2f192bbf0e2d",
   "metadata": {},
   "outputs": [],
   "source": [
    "# Solution 2\n",
    "cp = float(input(\"Enter Cost price of bike:\"))\n",
    "if cp > 100000 :\n",
    "    print(\"Road tax to be paid : 15% \")\n",
    "elif cp > 50000 and cp <= 100000:\n",
    "    print (\"Road tax to be paid : 10% \")\n",
    "else:\n",
    "    print(\"Road tax to be paid : 5% \")"
   ]
  },
  {
   "cell_type": "code",
   "execution_count": null,
   "id": "bc52141f-3068-4fc2-9df5-3b18f9fd626b",
   "metadata": {},
   "outputs": [],
   "source": [
    "# Solution 3:\n",
    "city = input(\"Enter any city:\")\n",
    "if city == \"Delhi\":\n",
    "    print(\"Monument : Red Fort\")\n",
    "elif city == \"Agra\" :\n",
    "    print(\"Monument : Taj Mahal\")\n",
    "elif city == \"Jaipur\":\n",
    "    print(\"Monument : Jal Mahal\")\n",
    "else:\n",
    "    print(\"Please enter city from the list: Delhi,Agra,Jaipur\")"
   ]
  },
  {
   "cell_type": "code",
   "execution_count": 23,
   "id": "34fd4312-b9a2-4698-9f3a-a906da97626d",
   "metadata": {},
   "outputs": [
    {
     "name": "stdin",
     "output_type": "stream",
     "text": [
      "Enter any number: 150\n"
     ]
    },
    {
     "name": "stdout",
     "output_type": "stream",
     "text": [
      "0\n"
     ]
    }
   ],
   "source": [
    "# Solution 4:\n",
    "n = int(input(\"Enter any number:\"))\n",
    "\n",
    "count = 0\n",
    "while (n//3 <= 10):\n",
    "    \n",
    "    count = count + 1\n",
    "print(count)\n"
   ]
  },
  {
   "cell_type": "code",
   "execution_count": null,
   "id": "4714b3bc-9ffa-4c40-83f4-58c74046bce6",
   "metadata": {},
   "outputs": [],
   "source": [
    "# Solution 5:\n",
    "'''\n",
    "While loops are used in Python to execute block of code until certain conditions are met. \n",
    "Here the while loop evaluates the condition. When the condition evaluates to True, the code inside the while loop is executed.\n",
    "for example:\n",
    "If we want to print a table of a number, it should print till (n * 1...n * 10)\n",
    "'''"
   ]
  },
  {
   "cell_type": "code",
   "execution_count": 24,
   "id": "8e48e89a-84fc-4595-95a2-3dae675d11cb",
   "metadata": {},
   "outputs": [
    {
     "name": "stdin",
     "output_type": "stream",
     "text": [
      "Enter number of rows :  5\n"
     ]
    },
    {
     "name": "stdout",
     "output_type": "stream",
     "text": [
      "* \n",
      "* * \n",
      "* * * \n",
      "* * * * \n",
      "* * * * * \n"
     ]
    }
   ],
   "source": [
    "# Solution 6:\n",
    "# Pattern 1\n",
    "n = int(input('Enter number of rows : '))\n",
    " \n",
    "i = 1\n",
    "while i <= n :\n",
    "    j = 1\n",
    "    while j <= i:\n",
    "        print(\"*\", end = \" \")\n",
    "        j += 1\n",
    "    print()\n",
    "    i += 1"
   ]
  },
  {
   "cell_type": "code",
   "execution_count": 25,
   "id": "4bcbd4d0-67b9-4476-bd6a-3da5c794e0fd",
   "metadata": {},
   "outputs": [
    {
     "name": "stdin",
     "output_type": "stream",
     "text": [
      "Enter number of rows :  5\n"
     ]
    },
    {
     "name": "stdout",
     "output_type": "stream",
     "text": [
      "* * * * * \n",
      "* * * * \n",
      "* * * \n",
      "* * \n",
      "* \n"
     ]
    }
   ],
   "source": [
    "# Solution 6:\n",
    "# Pattern 2\n",
    "n = int(input('Enter number of rows : '))\n",
    " \n",
    "i = 1\n",
    "while i <= n :\n",
    "    j = n\n",
    "    while j >= i:\n",
    "        print(\"*\", end = \" \")\n",
    "        j -= 1\n",
    "    print()\n",
    "    i += 1"
   ]
  },
  {
   "cell_type": "code",
   "execution_count": 26,
   "id": "f75cb60e-71f5-4929-aeb0-9071927978bc",
   "metadata": {},
   "outputs": [
    {
     "name": "stdin",
     "output_type": "stream",
     "text": [
      "Enter number of rows :  5\n"
     ]
    },
    {
     "name": "stdout",
     "output_type": "stream",
     "text": [
      "  1 \n",
      "  2   3 \n",
      "  4   5   6 \n",
      "  7   8   9  10 \n",
      " 11  12  13  14  15 \n"
     ]
    }
   ],
   "source": [
    "# Solution 6\n",
    "# Pattern 3\n",
    "n = int(input('Enter number of rows : '))\n",
    " \n",
    "k = 1\n",
    "i = 1\n",
    "while i <= n :\n",
    "    j = 1\n",
    "    while j <= i:\n",
    "        print(\"{:3d}\".format(k), end = \" \")\n",
    "        j += 1\n",
    "        k += 1\n",
    "    print()\n",
    "    i += 1"
   ]
  },
  {
   "cell_type": "code",
   "execution_count": 30,
   "id": "396d446c-55a6-4e8e-a307-3fbae063fd4d",
   "metadata": {},
   "outputs": [
    {
     "name": "stdout",
     "output_type": "stream",
     "text": [
      "10\n",
      "9\n",
      "8\n",
      "7\n",
      "6\n",
      "5\n",
      "4\n",
      "3\n",
      "2\n",
      "1\n"
     ]
    }
   ],
   "source": [
    "# Solution 7 and Solution 8\n",
    "n=10\n",
    "while n > 0:\n",
    "    print (n)\n",
    "    n -= 1"
   ]
  },
  {
   "cell_type": "code",
   "execution_count": null,
   "id": "2e7c056e-f74c-4b1b-a527-f76364b76bd7",
   "metadata": {},
   "outputs": [],
   "source": []
  }
 ],
 "metadata": {
  "kernelspec": {
   "display_name": "Python 3 (ipykernel)",
   "language": "python",
   "name": "python3"
  },
  "language_info": {
   "codemirror_mode": {
    "name": "ipython",
    "version": 3
   },
   "file_extension": ".py",
   "mimetype": "text/x-python",
   "name": "python",
   "nbconvert_exporter": "python",
   "pygments_lexer": "ipython3",
   "version": "3.10.8"
  }
 },
 "nbformat": 4,
 "nbformat_minor": 5
}
