{
 "cells": [
  {
   "cell_type": "code",
   "execution_count": 16,
   "id": "6b622541-9e8c-4e2f-a048-a1a8960a696f",
   "metadata": {},
   "outputs": [
    {
     "name": "stdout",
     "output_type": "stream",
     "text": [
      "Input list elements:\n",
      "10\n",
      "20\n",
      "30\n",
      "40\n",
      "50\n"
     ]
    },
    {
     "name": "stdin",
     "output_type": "stream",
     "text": [
      "Enter number till you want Natural numbers: 15\n"
     ]
    },
    {
     "name": "stdout",
     "output_type": "stream",
     "text": [
      "1\n",
      "2\n",
      "3\n",
      "4\n",
      "5\n",
      "6\n",
      "7\n",
      "8\n",
      "9\n",
      "10\n",
      "11\n",
      "12\n",
      "13\n",
      "14\n",
      "15\n"
     ]
    }
   ],
   "source": [
    "# Ans 1.  \n",
    "# for-loop\n",
    "# It is used only when the number of iterations is known beforehand.\n",
    "\n",
    "# If the condition is not mentioned in the 'for' loop, then the loop iterates the infinite number of times.\n",
    "\n",
    "# The initialization is done only once, and it is never repeated.\n",
    "# example:\n",
    "# input list\n",
    "inputList = [10, 20, 30, 40, 50]\n",
    "print(\"Input list elements:\")\n",
    "# traversing through all elements of the list using for loop\n",
    "for element in inputList:\n",
    "   # printing each element of the list\n",
    "   print(element)\n",
    "    \n",
    "# While loop:\n",
    "# It is used only when the number of iterations isn’t known.\n",
    "\n",
    "# If the condition is not mentioned in the 'while' loop, it results in a compilation error.\n",
    "\n",
    "# If the initialization is done when the condition is being checked,\n",
    "# then initialization occurs every time the loop is iterated through.\n",
    "\n",
    "# example: Printing n natural numbers taking user's input\n",
    "\n",
    "n= int(input(\"Enter number till you want Natural numbers:\"))\n",
    "# Initializing a dummy variable with 1\n",
    "i = 1\n",
    "# Iterate until the given condition is true\n",
    "while i <= n:\n",
    "   # printing the current value\n",
    "   print(i)\n",
    "   # incrementing the value of i value by 1\n",
    "   i += 1 "
   ]
  },
  {
   "cell_type": "code",
   "execution_count": 23,
   "id": "65dc28e5-3e9b-4f3b-a76e-0151602ba558",
   "metadata": {},
   "outputs": [
    {
     "name": "stdout",
     "output_type": "stream",
     "text": [
      "Sum of first 10 natural numbers: 55\n",
      "Product of first 10 natural numbers: 3628800\n"
     ]
    }
   ],
   "source": [
    "# Ans 2 >\n",
    "# Using for-loop\n",
    "sum = 0  #Declaring sum variable equal to 0\n",
    "for i in range(1,11):   #fetching 1 t0 10\n",
    "    sum = sum + i      # Adding consecutive numbers\n",
    "print(\"Sum of first 10 natural numbers:\",sum)\n",
    "\n",
    "\n",
    "product = 1    #Initializing product as 1\n",
    "for i in range(1,11):   #fetching 1 t0 10\n",
    "    product = product * i      # Multiplying consecutive numbers\n",
    "print(\"Product of first 10 natural numbers:\",product)"
   ]
  },
  {
   "cell_type": "code",
   "execution_count": 27,
   "id": "9525a2da-f111-4568-bce4-029f7ec17468",
   "metadata": {},
   "outputs": [
    {
     "name": "stdout",
     "output_type": "stream",
     "text": [
      "Sum of first 10 natural numbers: 55\n",
      "Product of first 10 natural numbers: 3628800\n"
     ]
    }
   ],
   "source": [
    "# Ans 2 >\n",
    "# Using while-loop\n",
    "sum = 0          #initializing sum = 0\n",
    "i = 1            #declaring from where loop will start i.e., 1\n",
    "while i < 11:    #loop will run till condition is true i.e., till 10\n",
    "    sum = sum + i   #computing addition of consecutive numbers\n",
    "    i += 1          #incrementing loop by 1\n",
    "print(\"Sum of first 10 natural numbers:\",sum)\n",
    "\n",
    "\n",
    "product = 1       #Declaring product as 1\n",
    "i = 1             #declaring from where loop will start i.e., 1\n",
    "while i < 11:     #loop will run till condition is true i.e., till 10\n",
    "    product = product * i    #computing multiplication of consecutive numbers\n",
    "    i += 1               #incrementing loop by 1 here\n",
    "print(\"Product of first 10 natural numbers:\",product)"
   ]
  },
  {
   "cell_type": "code",
   "execution_count": 35,
   "id": "652c6371-907e-4426-9c18-e10b000f5b4c",
   "metadata": {},
   "outputs": [
    {
     "name": "stdin",
     "output_type": "stream",
     "text": [
      "Enter units consumed in a month: 310\n"
     ]
    },
    {
     "name": "stdout",
     "output_type": "stream",
     "text": [
      "Your total electricity bill for the Month is: Rs. 2250.0\n"
     ]
    }
   ],
   "source": [
    "# Ans 3:> To compute electricity bill\n",
    "\n",
    "unit = int(input(\"Enter units consumed in a month:\"))  #Taking user inputs\n",
    "# Checking conditions for Rates of bill per 100 units\n",
    "if unit <= 100:\n",
    "    charges = 4.5 * unit\n",
    "elif unit >100 and unit<=200:\n",
    "    charges = ((100*4.5)+(unit-100)*6)\n",
    "elif unit >200 and unit<=300:\n",
    "    charges = ((100*4.5)+(100*6)+(unit-200)*10)\n",
    "else:\n",
    "    charges = ((100*4.5)+(100*6)+(100*10)+(unit-300)*20)\n",
    "\n",
    "    \n",
    "print (\"Your total electricity bill for the Month is: Rs.\",charges)\n",
    "   \n",
    "\n"
   ]
  },
  {
   "cell_type": "code",
   "execution_count": 38,
   "id": "2ae5c051-a50c-45da-9790-fe8311936628",
   "metadata": {},
   "outputs": [
    {
     "name": "stdout",
     "output_type": "stream",
     "text": [
      "List of cubes divisible by 4 or 5: \n",
      " [8, 64, 125, 216, 512, 1000, 1728, 2744, 3375, 4096, 5832, 8000, 10648, 13824, 15625, 17576, 21952, 27000, 32768, 39304, 42875, 46656, 54872, 64000, 74088, 85184, 91125, 97336, 110592, 125000, 140608, 157464, 166375, 175616, 195112, 216000, 238328, 262144, 274625, 287496, 314432, 343000, 373248, 405224, 421875, 438976, 474552, 512000, 551368, 592704, 614125, 636056, 681472, 729000, 778688, 830584, 857375, 884736, 941192, 1000000]\n"
     ]
    }
   ],
   "source": [
    "# Ans 4:\n",
    "# Using while and for loop:\n",
    "list1 = []     #Declaring an empty list which will store 1 to 100\n",
    "list2 = []     # Declaring an empty list which will store cubes divisible by 4 or 5\n",
    "\n",
    "i = 1        # Initializing a dummy variable with 1\n",
    "# Iterate until the given condition is true\n",
    "while i<101:\n",
    "    list1.append(i*i*i)    #appendig cubes of 1 to 100 in list1[]\n",
    "    i+=1         # incrementing the value of i value by 1\n",
    "\n",
    "for j in list1:         # looping inside elements of list1\n",
    "    if j%4 == 0 or j%5 == 0:  #checking divisibility\n",
    "        list2.append(j)       #appending divisibles\n",
    "print(\"List of cubes divisible by 4 or 5: \\n\",list2)  #printing final list\n",
    "\n",
    "\n"
   ]
  },
  {
   "cell_type": "code",
   "execution_count": 12,
   "id": "0af460be-4589-4a9b-b8a9-634dd05ab7ba",
   "metadata": {},
   "outputs": [
    {
     "name": "stdout",
     "output_type": "stream",
     "text": [
      "Total count of vowels in given string are:  12\n"
     ]
    }
   ],
   "source": [
    "# Ans 5:\n",
    "string = \"I want to become a data scientist\"\n",
    "vowels = [\"a\",\"e\",\"i\",\"o\",\"u\",\"A\",\"E\",\"I\",\"O\",\"U\"]   #Declaring vowels         \n",
    "count=0         #Initializng initial count = 0\n",
    "for i in string:   #Looping into whole sting\n",
    "    for j in vowels: #Looping with list of vowels\n",
    "        if i == j:   #Matching vowels in the string\n",
    "            count+=1  #Summation of occurrence of vowels\n",
    "print(\"Total count of vowels in given string are: \",count)  #printing total count"
   ]
  },
  {
   "cell_type": "code",
   "execution_count": null,
   "id": "e4a587ff-e944-4570-b28e-87ae3cd5ba89",
   "metadata": {},
   "outputs": [],
   "source": []
  }
 ],
 "metadata": {
  "kernelspec": {
   "display_name": "Python 3 (ipykernel)",
   "language": "python",
   "name": "python3"
  },
  "language_info": {
   "codemirror_mode": {
    "name": "ipython",
    "version": 3
   },
   "file_extension": ".py",
   "mimetype": "text/x-python",
   "name": "python",
   "nbconvert_exporter": "python",
   "pygments_lexer": "ipython3",
   "version": "3.10.8"
  }
 },
 "nbformat": 4,
 "nbformat_minor": 5
}
