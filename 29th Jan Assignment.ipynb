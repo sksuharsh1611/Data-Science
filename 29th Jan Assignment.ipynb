{
 "cells": [
  {
   "cell_type": "code",
   "execution_count": 20,
   "id": "abcb206a-8578-4b50-99e4-0130d18765c2",
   "metadata": {},
   "outputs": [],
   "source": [
    "# Ans 1 > Guido van Rossum"
   ]
  },
  {
   "cell_type": "code",
   "execution_count": 21,
   "id": "2b943be7-952c-4a74-a183-fab334331312",
   "metadata": {},
   "outputs": [],
   "source": [
    "# Ans 2 >  Object-oriented programming and structured programming"
   ]
  },
  {
   "cell_type": "code",
   "execution_count": 22,
   "id": "a85413b9-6445-4b96-8841-9abbb810dd97",
   "metadata": {},
   "outputs": [],
   "source": [
    "# Ans 3 > Yes, Python is a case-sensitive language"
   ]
  },
  {
   "cell_type": "code",
   "execution_count": 23,
   "id": "9dbbdaa4-1c4b-42bd-a15b-037711f1b061",
   "metadata": {},
   "outputs": [],
   "source": [
    "# Ans 4 > .py is correct extension of python files."
   ]
  },
  {
   "cell_type": "code",
   "execution_count": 24,
   "id": "789bb3c4-0cc7-41d6-8a0c-035d5e2a5481",
   "metadata": {},
   "outputs": [],
   "source": [
    "# Ans 5 > Python is an interpreted language"
   ]
  },
  {
   "cell_type": "code",
   "execution_count": 25,
   "id": "c06466f9-c9c3-46c7-8c33-70ea19f355ce",
   "metadata": {},
   "outputs": [],
   "source": [
    "# Ans 6 > [Ctrl + /] used to give single line comment"
   ]
  },
  {
   "cell_type": "code",
   "execution_count": 26,
   "id": "2035ede3-5857-4e8b-85e1-288afb359b35",
   "metadata": {},
   "outputs": [],
   "source": [
    "# Ans 7 > # hash is used to give single line comments"
   ]
  },
  {
   "cell_type": "code",
   "execution_count": 27,
   "id": "2c787de5-3ea8-4998-b76b-de0793b1dd4e",
   "metadata": {},
   "outputs": [],
   "source": [
    "# python_version() or Python -V in command line"
   ]
  },
  {
   "cell_type": "code",
   "execution_count": 28,
   "id": "2ddcfe30-1cfd-4de4-ae2e-ed47d4767563",
   "metadata": {},
   "outputs": [],
   "source": [
    "# Ans 9 >  Python supports the creation of anonymous functions (i.e. functions that are not bound to a name) at runtime, using a construct called lambda.\n"
   ]
  },
  {
   "cell_type": "code",
   "execution_count": 29,
   "id": "e7000a54-c2b8-48cd-ae65-13e51968413c",
   "metadata": {},
   "outputs": [],
   "source": [
    "# Ans 10 > preferred installer program"
   ]
  },
  {
   "cell_type": "code",
   "execution_count": 31,
   "id": "b9025812-80de-44d4-a1d3-10cb045b5ea0",
   "metadata": {},
   "outputs": [
    {
     "data": {
      "text/plain": [
       "'Ans 11 > few built-in functions of python are following:\\nprint( ) function.\\ntype( ) function.\\ninput( ) function.\\nabs( ) function.\\npow( ) function.\\ndir( ) function.\\nsorted( ) function.\\nmax( ) function.\\n'"
      ]
     },
     "execution_count": 31,
     "metadata": {},
     "output_type": "execute_result"
    }
   ],
   "source": [
    "'''Ans 11 > few built-in functions of python are following:\n",
    "print( ) function.\n",
    "type( ) function.\n",
    "input( ) function.\n",
    "abs( ) function.\n",
    "pow( ) function.\n",
    "dir( ) function.\n",
    "sorted( ) function.\n",
    "max( ) function.\n",
    "'''"
   ]
  },
  {
   "cell_type": "code",
   "execution_count": 32,
   "id": "88738126-0b38-4edd-9848-c7044b5cf772",
   "metadata": {},
   "outputs": [],
   "source": [
    "# Ans 12 > An identifier can have a maximum length of 79 characters in Python"
   ]
  },
  {
   "cell_type": "code",
   "execution_count": 33,
   "id": "7dbfef30-6168-409a-99f3-3e2722e764a8",
   "metadata": {},
   "outputs": [],
   "source": [
    "# Ans 13 > There are so many benefits of using Python such as\n",
    "# Simple to Use and Understand. \n",
    "# Free and Open-Source.\n",
    "# It is highly Interpreted language\n",
    "# It has extensive library.\n",
    "# It's dynamically typed."
   ]
  },
  {
   "cell_type": "code",
   "execution_count": 34,
   "id": "88daa4e9-207a-4706-b670-6fd82c8ac9e1",
   "metadata": {},
   "outputs": [],
   "source": [
    "# Ans 14 > Python's memory management includes a private heap that contains all Python objects and data structures. \n",
    "#          This private heap is managed by the Python memory manager."
   ]
  },
  {
   "cell_type": "code",
   "execution_count": 35,
   "id": "e9340a8e-9e2c-48e5-8d17-5dee76b31452",
   "metadata": {},
   "outputs": [],
   "source": [
    "# Ans 15 > The complete path of python.exe can be added by:\n",
    "\n",
    "# Right-clicking This PC and going to Properties.\n",
    "\n",
    "# Clicking on the Advanced system settings in the menu on the left.\n",
    "\n",
    "# Clicking on the Environment Variables button on the bottom right.\n",
    "\n",
    "# In the System variables section, selecting the Path variable and clicking on Edit. The next screen will show all the directories that are currently a part of the PATH variable.\n",
    "\n",
    "# Clicking on New and entering Python’s install directory."
   ]
  },
  {
   "cell_type": "code",
   "execution_count": 36,
   "id": "102ae792-0282-4504-a047-2e69f057cf4f",
   "metadata": {},
   "outputs": [],
   "source": [
    "# Ans 16 > Yes, identation is most important aspect, a user needs to take care when writing a python program."
   ]
  },
  {
   "cell_type": "code",
   "execution_count": null,
   "id": "88b15e97-78d6-4373-a958-60b4191d5463",
   "metadata": {},
   "outputs": [],
   "source": []
  }
 ],
 "metadata": {
  "kernelspec": {
   "display_name": "Python 3 (ipykernel)",
   "language": "python",
   "name": "python3"
  },
  "language_info": {
   "codemirror_mode": {
    "name": "ipython",
    "version": 3
   },
   "file_extension": ".py",
   "mimetype": "text/x-python",
   "name": "python",
   "nbconvert_exporter": "python",
   "pygments_lexer": "ipython3",
   "version": "3.10.8"
  }
 },
 "nbformat": 4,
 "nbformat_minor": 5
}
