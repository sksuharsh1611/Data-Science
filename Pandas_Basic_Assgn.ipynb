{
 "cells": [
  {
   "cell_type": "code",
   "execution_count": null,
   "id": "d0e0d78e-1d04-4e88-93c9-65ccfd6b65ac",
   "metadata": {},
   "outputs": [],
   "source": [
    "Q1. Create a Pandas Series that contains the following data: 4, 8, 15, 16, 23, and 42. Then, print the series.\n",
    "Q2. Create a variable of list type containing 10 elements in it, and apply pandas.Series function on the\n",
    "variable print it.\n",
    "\n",
    "Q3. Create a Pandas DataFrame that contains the following data:\n",
    "    Name | Age | Gender\n",
    "    Alice| 25  | Female\n",
    "    Bob  | 30  | Male\n",
    "    Clair| 27  | Female\n",
    "\n",
    "Then, print the DataFrame.\n",
    "\n",
    "Q4. What is ‘DataFrame’ in pandas and how is it different from pandas.series? Explain with an example.\n",
    "Q5. What are some common functions you can use to manipulate data in a Pandas DataFrame? Can\n",
    "you give an example of when you might use one of these functions?\n",
    "Q6. Which of the following is mutable in nature Series, DataFrame, Panel?\n",
    "Q7. Create a DataFrame using multiple Series. Explain with an example."
   ]
  },
  {
   "cell_type": "code",
   "execution_count": 1,
   "id": "b8b89bde-5765-47a7-aed4-2a6cab2c8ef3",
   "metadata": {},
   "outputs": [],
   "source": [
    "import pandas as pd"
   ]
  },
  {
   "cell_type": "code",
   "execution_count": 11,
   "id": "21c828df-563b-4d35-abe6-40e91f0e92f2",
   "metadata": {},
   "outputs": [
    {
     "name": "stdout",
     "output_type": "stream",
     "text": [
      "Requirement already satisfied: pandas in /opt/conda/lib/python3.10/site-packages (1.5.2)\n",
      "Requirement already satisfied: python-dateutil>=2.8.1 in /opt/conda/lib/python3.10/site-packages (from pandas) (2.8.2)\n",
      "Requirement already satisfied: pytz>=2020.1 in /opt/conda/lib/python3.10/site-packages (from pandas) (2022.6)\n",
      "Requirement already satisfied: numpy>=1.21.0 in /opt/conda/lib/python3.10/site-packages (from pandas) (1.23.5)\n",
      "Requirement already satisfied: six>=1.5 in /opt/conda/lib/python3.10/site-packages (from python-dateutil>=2.8.1->pandas) (1.16.0)\n",
      "Note: you may need to restart the kernel to use updated packages.\n"
     ]
    }
   ],
   "source": [
    "pip install pandas"
   ]
  },
  {
   "cell_type": "code",
   "execution_count": 9,
   "id": "a1477f99-d30c-4e1f-8796-0052cb899743",
   "metadata": {},
   "outputs": [
    {
     "name": "stdout",
     "output_type": "stream",
     "text": [
      "0     4\n",
      "1     8\n",
      "2    15\n",
      "3    16\n",
      "4    23\n",
      "5    42\n",
      "dtype: int64\n"
     ]
    }
   ],
   "source": [
    "# Sol 1:\n",
    "l1 = [4,8,15,16,23,42]\n",
    "df = pd.Series(l1)\n",
    "print(df)"
   ]
  },
  {
   "cell_type": "code",
   "execution_count": 16,
   "id": "6dbfcfb4-fa39-463a-87e5-5a07a019764b",
   "metadata": {},
   "outputs": [
    {
     "name": "stdout",
     "output_type": "stream",
     "text": [
      "0          1\n",
      "1          2\n",
      "2          3\n",
      "3          4\n",
      "4          5\n",
      "5    suharsh\n",
      "6        7.7\n",
      "7          8\n",
      "8          9\n",
      "9         10\n",
      "dtype: object\n"
     ]
    }
   ],
   "source": [
    "# Sol 2:\n",
    "l2 = [1,2,3,4,5,'suharsh',7.7,8,9,10]\n",
    "# type(l2)\n",
    "# len(l2)\n",
    "\n",
    "pds1 = pd.Series(l2)\n",
    "print(pds1)"
   ]
  },
  {
   "cell_type": "code",
   "execution_count": 19,
   "id": "ef4ace0a-cd4a-45be-87d6-534e48e652ac",
   "metadata": {},
   "outputs": [
    {
     "name": "stdout",
     "output_type": "stream",
     "text": [
      "     Name  Age  Gender\n",
      "0   Alice   25  Female\n",
      "1     Bob   30    Male\n",
      "2  Claire   27  Female\n"
     ]
    }
   ],
   "source": [
    "# Sol 3:\n",
    "data1 = {'Name':['Alice','Bob','Claire'],\n",
    "         'Age':[25,30,27],\n",
    "         'Gender':['Female','Male','Female']\n",
    "}\n",
    "df1 = pd.DataFrame(data1)\n",
    "print(df1)"
   ]
  },
  {
   "cell_type": "code",
   "execution_count": 21,
   "id": "50d1d2a2-8e40-475b-96b5-714d9042abf2",
   "metadata": {},
   "outputs": [
    {
     "name": "stdout",
     "output_type": "stream",
     "text": [
      "      Name  Age    Country\n",
      "0    Alice   25        USA\n",
      "1      Bob   30     Canada\n",
      "2  Charlie   35         UK\n",
      "3     Dave   40  Australia\n",
      "0    25\n",
      "1    30\n",
      "2    35\n",
      "3    40\n",
      "Name: Age, dtype: int64\n"
     ]
    }
   ],
   "source": [
    "# Sol 4:\n",
    "'''\n",
    "DATAFRAME:\n",
    ">> A DataFrame is a 2-dimensional data structure in Pandas.\n",
    ">> A DataFrame is composed of multiple Series objects arranged in a tabular fashion.\n",
    ">> Each column of a DataFrame can have a different data type.\n",
    ">> A DataFrame is similar to a spreadsheet or a SQL table.\n",
    ">> A DataFrame can be created from various sources, such as a CSV file, a SQL database, or a Python dictionary.\n",
    ">> A DataFrame can be accessed and manipulated using various methods, such as indexing, slicing, merging, filtering, and aggregating.\n",
    ">> DataFrame is suitable for handling large datasets with multiple variables.\n",
    "\n",
    "While, Series:\n",
    ">> A Series is a one-dimensional data structure in Pandas.\n",
    ">> Series can contain any data type.\n",
    ">> Series is typically created from a single column of a DataFrame or from a Python list or dictionary.\n",
    ">> Series can be accessed and manipulated using various methods, such as indexing, slicing, filtering, and aggregating.\n",
    ">> Series is suitable for handling small to medium-sized datasets with a single variable.\n",
    "'''\n",
    "# for example : Series v/s DataFrame\n",
    "\n",
    "# Create a dictionary of data\n",
    "data = {'Name': ['Alice', 'Bob', 'Charlie', 'Dave'],\n",
    "        'Age': [25, 30, 35, 40],\n",
    "        'Country': ['USA', 'Canada', 'UK', 'Australia']}\n",
    "\n",
    "# Create a DataFrame from the dictionary\n",
    "df = pd.DataFrame(data)\n",
    "\n",
    "# Create a Series from the 'Age' column of the DataFrame\n",
    "ages = df['Age']\n",
    "\n",
    "# Print the DataFrame and Series\n",
    "print(df)\n",
    "print(ages)"
   ]
  },
  {
   "cell_type": "code",
   "execution_count": 24,
   "id": "f9d1e811-d226-4b05-92bf-70a8fce808cb",
   "metadata": {},
   "outputs": [
    {
     "name": "stdout",
     "output_type": "stream",
     "text": [
      "[<class 'pandas.core.frame.DataFrame'>, <class 'pandas.core.series.Series'>]\n"
     ]
    }
   ],
   "source": [
    "# Printing Datatypes:\n",
    "data_types = [type(df),type(ages)]\n",
    "print(data_types)"
   ]
  },
  {
   "cell_type": "code",
   "execution_count": 9,
   "id": "cb1062e2-88c7-4eb8-8709-e6c2c31a3f08",
   "metadata": {},
   "outputs": [],
   "source": [
    "# Sol 5:\n",
    "\n",
    "'''\n",
    "Pandas has numerous functions to manipulate data in a DataFrame, \n",
    "including drop, fillna, groupby, and merge. \n",
    "These functions can be used to remove irrelevant or missing data, handle missing values, group data, and merge data from different sources.\n",
    "\n",
    "'''\n",
    "# For example: 'merge()'\n",
    "# merge: This function is used to combine two DataFrames into one based on one or more common columns.\n",
    "# It takes two arguments: left and right, which are the DataFrames to merge, and on, which specifies the common column(s) to merge on. \n",
    "# We can also specify the type of join to use (inner, outer, left, or right) and how to handle duplicate column names (suffixes). \n",
    "# The result is a new DataFrame with the combined data.\n",
    "import pandas as pd\n",
    "data1 = {\"id\":['1','2','3'],\n",
    "        \"name\":[\"Suharsh\",\"raj\",\"kumar\"]\n",
    "        }\n",
    "df1 = pd.DataFrame(data1)\n",
    "\n",
    "data2 = {\"id\":['1','2','3'],\n",
    "         \"course\":[\"DSMasters\",\"DSA\",\"FullStack\"]\n",
    "        }\n",
    "df2 = pd.DataFrame(data2)\n",
    "\n",
    "# Merging the two DataFrames based on the common key 'id'\n",
    "merged_data = pd.merge(df1, df2, on=\"id\")\n",
    "\n"
   ]
  },
  {
   "cell_type": "code",
   "execution_count": 10,
   "id": "0f0efa78-3d88-4b7d-95e6-9efbf458a3b1",
   "metadata": {},
   "outputs": [
    {
     "name": "stdout",
     "output_type": "stream",
     "text": [
      "  id     name     course\n",
      "0  1  Suharsh  DSMasters\n",
      "1  2      raj        DSA\n",
      "2  3    kumar  FullStack\n"
     ]
    }
   ],
   "source": [
    "print(merged_data)"
   ]
  },
  {
   "cell_type": "code",
   "execution_count": null,
   "id": "ad339f03-4135-4b16-afa4-c9dd1161b560",
   "metadata": {},
   "outputs": [],
   "source": [
    "# Ans 6:\n",
    "'''\n",
    "In Pandas, Series and DataFrame are mutable in nature. \n",
    "This means that we can modify their content after they are created.\n",
    "\n",
    "On the other hand, Panel is not as mutable as Series and DataFrame. \n",
    "Panel can be modified, but it is less flexible compared to Series and DataFrame. \n",
    "Moreover, Panel has been deprecated since version 1.0.0 and is no longer recommended for use in Pandas. \n",
    "Instead, it is recommended to use MultiIndex DataFrame, which is more flexible and powerful for handling complex data.\n",
    "'''"
   ]
  },
  {
   "cell_type": "code",
   "execution_count": 13,
   "id": "fdd0a561-dcff-47e0-8ac7-80d3dc1f9244",
   "metadata": {},
   "outputs": [
    {
     "name": "stdout",
     "output_type": "stream",
     "text": [
      "        name     course institute\n",
      "0    Suharsh  DSMasters  pwskills\n",
      "1  Sudhanshu         ML   iNeuron\n",
      "2      Krish         AI   iNeuron\n"
     ]
    }
   ],
   "source": [
    "# Sol 7:\n",
    "\n",
    "# Creating multiple pandas 'series'\n",
    "name = pd.Series([\"Suharsh\",\"Sudhanshu\",\"Krish\"])\n",
    "\n",
    "course = pd.Series([\"DSMasters\",\"ML\",\"AI\"])\n",
    "\n",
    "institute = pd.Series([\"pwskills\",\"iNeuron\",\"iNeuron\"])\n",
    "\n",
    "\n",
    "# Merging them altogether in single DataFrame\n",
    "dataframe1 = pd.DataFrame({'name':name,\n",
    "                          'course':course,\n",
    "                          'institute':institute\n",
    "                          })\n",
    "# Printing the dataframe values.\n",
    "print(dataframe1)"
   ]
  },
  {
   "cell_type": "code",
   "execution_count": null,
   "id": "33ee870a-6fd5-4478-92d7-fe89c3f72a09",
   "metadata": {},
   "outputs": [],
   "source": [
    "# Explanation of above code:\n",
    "'''\n",
    "This code creates three Pandas Series, namely name, course, and institute, with three elements each representing the name, course, and institute of three individuals.\n",
    "\n",
    "The code then merges these three Series into a single DataFrame using the pd.DataFrame() constructor function. \n",
    "The dictionary passed to the constructor function contains the column names as keys and the respective Series as values. \n",
    "The resulting DataFrame has three columns - 'name', 'course', and 'institute' - and three rows representing the three individuals.\n",
    "\n",
    "Finally, the print() function is used to display the contents of the DataFrame.\n",
    "'''"
   ]
  }
 ],
 "metadata": {
  "kernelspec": {
   "display_name": "Python 3 (ipykernel)",
   "language": "python",
   "name": "python3"
  },
  "language_info": {
   "codemirror_mode": {
    "name": "ipython",
    "version": 3
   },
   "file_extension": ".py",
   "mimetype": "text/x-python",
   "name": "python",
   "nbconvert_exporter": "python",
   "pygments_lexer": "ipython3",
   "version": "3.10.8"
  }
 },
 "nbformat": 4,
 "nbformat_minor": 5
}
