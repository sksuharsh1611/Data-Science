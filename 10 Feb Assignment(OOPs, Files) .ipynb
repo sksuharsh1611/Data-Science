{
 "cells": [
  {
   "cell_type": "code",
   "execution_count": 1,
   "id": "579cd612-61f8-454b-a6c0-bf2dbe4ec3bc",
   "metadata": {},
   "outputs": [],
   "source": [
    "Q1. Which function is used to open a file? What are the different modes of opening a file? \n",
    "Explain each mode\n",
    "of file opening.\n",
    "Q2. Why close() function is used? Why is it important to close a file?\n",
    "Q3. Write a python program to create a text file. Write ‘I want to become a Data Scientist’ in that file. Then\n",
    "close the file. Open this file and read the content of the file.\n",
    "Q4. Explain the following with python code: read(), readline() and readlines().\n",
    "Q5. Explain why with statement is used with open(). What is the advantage of using with statement and\n",
    "open() together?\n",
    "Q6. Explain the write() and writelines() functions. Give a suitable example.\n",
    " "
   ]
  },
  {
   "cell_type": "code",
   "execution_count": null,
   "id": "8f3cea7d-6971-4cc2-9a3a-4e0eb330ccef",
   "metadata": {},
   "outputs": [],
   "source": [
    "# Ans 1:\n",
    "'''\n",
    "In Python, the built-in open() function is used to open a file.\n",
    "\n",
    "The open() function takes two parameters:\n",
    "\n",
    "filename (required): the name of the file (including the file path if the file is located in a different directory).\n",
    "mode (optional): the mode in which the file should be opened. If the mode parameter is not specified, the default mode is 'r' (read mode).\n",
    "Here are the different modes of opening a file in Python:\n",
    "\n",
    "'r': Read mode. This mode is used to read data from an existing file. If the file does not exist, a FileNotFoundError will be raised.\n",
    "\n",
    "'w': Write mode. This mode is used to write data to a file. If the file already exists, its contents will be overwritten. If the file does not exist, a new file will be created.\n",
    "\n",
    "'a': Append mode. This mode is used to add data to an existing file. If the file does not exist, a new file will be created.\n",
    "\n",
    "'x': Exclusive creation mode. This mode is used to create a new file, but only if the file does not already exist. If the file already exists, a FileExistsError will be raised.\n",
    "\n",
    "'b': Binary mode. This mode is used to read or write binary data to a file, such as images or audio files.\n",
    "\n",
    "'t': Text mode. This mode is used to read or write text data to a file, such as a text file.\n",
    "\n",
    "'+': Read and write mode. This mode is used to open a file for both reading and writing.\n",
    "\n",
    "'''\n",
    "\n"
   ]
  },
  {
   "cell_type": "code",
   "execution_count": 8,
   "id": "2d92fa93-3791-45cd-af6b-881065b5b49b",
   "metadata": {},
   "outputs": [],
   "source": [
    "# for example:\n",
    "import sys,os,io\n",
    "with open('test1.txt', 'w') as f:\n",
    "    # read data from the file\n",
    "    data = f.write(\"Hi\")\n",
    "    \n"
   ]
  },
  {
   "cell_type": "code",
   "execution_count": null,
   "id": "99f32191-3748-4a2c-af4d-351fa6f8cc79",
   "metadata": {},
   "outputs": [],
   "source": [
    "# Ans 2:\n",
    "\n",
    "'''\n",
    "The close() function is used in Python to close an open file. \n",
    "When you open a file using the open() function, a file object is created that allows you to read from or write to the file. \n",
    "Once you are done working with the file, you should call the close() function to close the file.\n",
    "\n",
    "It is important to close a file after you are done working with it for several reasons:\n",
    "\n",
    "1. Freeing up resources: When a file is opened, the operating system allocates certain resources to that file. \n",
    "   If you don't close the file, these resources may not be released, which can cause problems if you have a large number of files open or if you run out of system resources.\n",
    "\n",
    "2. Ensuring data is written: When you write data to a file, it may be buffered in memory instead of being written to disk immediately. \n",
    "   If you don't close the file, the data may not be written to disk until later, which can cause data loss or other issues if your program terminates unexpectedly.\n",
    "\n",
    "3. Preventing conflicts: If you have a file open in write mode in one part of your program and try to open it again in another part of your program without closing it first, you may run into conflicts or other unexpected behavior.\n",
    "'''"
   ]
  },
  {
   "cell_type": "code",
   "execution_count": 9,
   "id": "c9398c0c-8a31-430d-8667-f7d91974eb9a",
   "metadata": {},
   "outputs": [],
   "source": [
    "# for example:\n",
    "f = open('test1.txt', 'r')\n",
    "data = f.read()\n",
    "f.close()"
   ]
  },
  {
   "cell_type": "code",
   "execution_count": 12,
   "id": "96377ebe-7696-46cd-b7d8-243882e5e010",
   "metadata": {},
   "outputs": [],
   "source": [
    "# Sol 3: Program to write and read and close a file.\n",
    "\n",
    "# Open the file for writing\n",
    "with open('My_file1.txt', 'w') as f:\n",
    "    # Write the string to the file\n",
    "    f.write('I want to become a Data Scientist')\n",
    "\n",
    "f.close()\n"
   ]
  },
  {
   "cell_type": "code",
   "execution_count": 13,
   "id": "f34b9ff5-209c-4308-9a2d-b18010a1fdef",
   "metadata": {},
   "outputs": [
    {
     "name": "stdout",
     "output_type": "stream",
     "text": [
      "I want to become a Data Scientist\n"
     ]
    }
   ],
   "source": [
    "# Open the file for reading\n",
    "with open('My_file1.txt', 'r') as f:\n",
    "    # Read the contents of the file into a variable\n",
    "    content = f.read()\n",
    "\n",
    "# Print the contents of the file\n",
    "print(content)"
   ]
  },
  {
   "cell_type": "code",
   "execution_count": null,
   "id": "b39c1aee-2432-462c-a8cf-1c5cee649085",
   "metadata": {},
   "outputs": [],
   "source": [
    "# Ans 4: \n",
    "'''\n",
    "In Python, there are several methods that you can use to read data from a file. \n",
    "Here are explanations of three commonly used methods: read(), readline(), and readlines().\n",
    "\n",
    "read(): This method reads the entire file as a string.\n",
    "        You can use it when you want to read the entire file all at once.\n",
    "\n",
    "readline(): This method reads one line of the file at a time. \n",
    "            You can use it when you want to read the file line by line, \n",
    "            or when you want to read just one line of the file.\n",
    "\n",
    "readlines(): This method reads all the lines of the file and returns them as a list of strings. \n",
    "             You can use it when you want to read the entire file into a list, \n",
    "             where each element of the list is a line of the file.\n",
    "'''\n"
   ]
  },
  {
   "cell_type": "code",
   "execution_count": 18,
   "id": "55572123-8497-4143-a258-732d521ea131",
   "metadata": {},
   "outputs": [
    {
     "name": "stdout",
     "output_type": "stream",
     "text": [
      "Hi, There !!\n",
      "What is your name?\n",
      "How are you?\n",
      "Where do you live?\n",
      "\n"
     ]
    }
   ],
   "source": [
    "# Example of read():\n",
    "\n",
    "# Open a file for reading\n",
    "with open('test1.txt', 'r') as f:\n",
    "    # Read the entire contents of the file\n",
    "    contents = f.read()\n",
    "    # Print the contents of the file\n",
    "    print(contents)"
   ]
  },
  {
   "cell_type": "code",
   "execution_count": 19,
   "id": "644c3724-69f8-41ef-b0ed-c09b2ac52196",
   "metadata": {},
   "outputs": [
    {
     "name": "stdout",
     "output_type": "stream",
     "text": [
      "Hi, There !!\n",
      "\n"
     ]
    }
   ],
   "source": [
    "# Example of readline()\n",
    "\n",
    "# Open a file for reading\n",
    "with open('test1.txt', 'r') as f:\n",
    "    # Read the first line of the file\n",
    "    line = f.readline()\n",
    "    # Print the first line of the file\n",
    "    print(line)"
   ]
  },
  {
   "cell_type": "code",
   "execution_count": 20,
   "id": "5dca66dc-fca7-4d1a-9698-9a0809504b3e",
   "metadata": {},
   "outputs": [
    {
     "name": "stdout",
     "output_type": "stream",
     "text": [
      "Hi, There !!\n",
      "\n",
      "What is your name?\n",
      "\n",
      "How are you?\n",
      "\n",
      "Where do you live?\n",
      "\n"
     ]
    }
   ],
   "source": [
    "# Example of readlines()\n",
    "\n",
    "# Open a file for reading\n",
    "with open('test1.txt', 'r') as f:\n",
    "    # Read all the lines of the file\n",
    "    lines = f.readlines()\n",
    "    # Print all the lines of the file\n",
    "    for line in lines:\n",
    "        print(line)"
   ]
  },
  {
   "cell_type": "code",
   "execution_count": null,
   "id": "b18ae6d0-badf-45cb-a321-ef8afc3000bc",
   "metadata": {},
   "outputs": [],
   "source": [
    "# Ans 5:\n",
    "\n",
    "'''\n",
    "The with statement in Python is used with the open() function to handle file I/O operations. \n",
    "\n",
    "The main advantage of using the with statement and open() function together is that it automatically handles the closing of the file, even if an error occurs during the I/O operations.\n",
    "\n",
    "When you use the with statement with open(), you create a temporary context in which the file object is available for use. \n",
    "After the block of code inside the with statement is executed, the file is automatically closed, regardless of whether an exception is raised or not.\n",
    "\n",
    "\n",
    "the with statement and open() function are used together in Python to ensure that files are opened and closed properly during I/O operations. \n",
    "Using these together is recommended as it provides a simple and safe way to handle file I/O.\n",
    "'''"
   ]
  },
  {
   "cell_type": "code",
   "execution_count": null,
   "id": "e1be0885-6bfe-476d-b001-c4012a2fd3f5",
   "metadata": {},
   "outputs": [],
   "source": [
    "# Ans 6:\n",
    "\n",
    "'''\n",
    "The write() and writelines() functions are used to write to a file in Python.\n",
    "\n",
    "1. write() function: This function is used to write a single string of characters to a file. \n",
    "                     You can use it to write a line of text to a file, or to add text to an existing file. \n",
    "\n",
    "     For example, you can use write() to create a file and write some text to it, or to add text to an existing file.\n",
    "\n",
    "2. writelines() function: This function is used to write a list of strings to a file. \n",
    "                          You can use it to write multiple lines of text to a file at once, or to add multiple lines of text to an existing file. \n",
    "        \n",
    "     For example, you can use writelines() to create a file and write several lines of text to it, or to add several lines of text to an existing file.\n",
    "\n",
    "Both functions are useful for writing data to a file in Python, \n",
    "but write() is used to write a single string to a file, \n",
    "while writelines() is used to write a list of strings to a file.\n",
    "\n",
    "'''"
   ]
  },
  {
   "cell_type": "code",
   "execution_count": 21,
   "id": "2a57bced-8276-4ef6-ae93-dc9f93fc3c0e",
   "metadata": {},
   "outputs": [],
   "source": [
    "# Example of write():\n",
    "\n",
    "# Open the file 'example.txt' in write mode ('w') using the 'with' statement\n",
    "# This ensures that the file is automatically closed when we're done with it\n",
    "with open('example.txt', 'w') as file:\n",
    "    \n",
    "    # Use the 'write' method to write the string 'This is a test' to the file\n",
    "    # The '\\n' character adds a newline at the end of the string\n",
    "    file.write('This is a test\\n')\n",
    "    \n",
    "    # Use the 'write' method again to write the string 'This is another test' to the file\n",
    "    # The '\\n' character adds a newline at the end of the string\n",
    "    file.write('This is another test\\n')"
   ]
  },
  {
   "cell_type": "code",
   "execution_count": 22,
   "id": "f0c45c7c-efd7-4890-9dd8-54d1f78f7931",
   "metadata": {},
   "outputs": [],
   "source": [
    "# Example of writelines()\n",
    "\n",
    "# Define a list of strings that we want to write to the file\n",
    "lines = ['This is a test3\\n', 'This is another test4\\n']\n",
    "\n",
    "# Open the file 'example.txt' in write mode ('w') using the 'with' statement\n",
    "# This ensures that the file is automatically closed when we're done with it\n",
    "with open('example.txt', 'w') as file:\n",
    "    \n",
    "    # Use the 'writelines' method to write the list of strings to the file\n",
    "    # Each string in the list is written to the file as a separate line\n",
    "    file.writelines(lines)\n"
   ]
  },
  {
   "cell_type": "code",
   "execution_count": 23,
   "id": "b6810edb-f769-4c98-b0f4-3b7a8cf9ccd8",
   "metadata": {},
   "outputs": [],
   "source": [
    "file.close()"
   ]
  }
 ],
 "metadata": {
  "kernelspec": {
   "display_name": "Python 3 (ipykernel)",
   "language": "python",
   "name": "python3"
  },
  "language_info": {
   "codemirror_mode": {
    "name": "ipython",
    "version": 3
   },
   "file_extension": ".py",
   "mimetype": "text/x-python",
   "name": "python",
   "nbconvert_exporter": "python",
   "pygments_lexer": "ipython3",
   "version": "3.10.8"
  }
 },
 "nbformat": 4,
 "nbformat_minor": 5
}
