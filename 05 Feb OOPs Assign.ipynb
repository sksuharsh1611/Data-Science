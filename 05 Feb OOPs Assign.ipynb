{
 "cells": [
  {
   "cell_type": "code",
   "execution_count": 34,
   "id": "ee4a0107-2aa0-4105-b529-a14a43bebe5e",
   "metadata": {},
   "outputs": [
    {
     "data": {
      "text/plain": [
       "('Toyota', 'Fortuner')"
      ]
     },
     "execution_count": 34,
     "metadata": {},
     "output_type": "execute_result"
    }
   ],
   "source": [
    "# # Ans 1:\n",
    "# Classes are user-defined data types that act as the blueprint for individual objects, attributes and methods. \n",
    "\n",
    "# Objects are instances of a class created with specifically defined data.\n",
    "\n",
    "class Car:   #Defining car class blueprint\n",
    "    def __init__(self, brand, model):  #Car must have brand, model\n",
    "        self.brand = brand\n",
    "        self.model = model\n",
    "\n",
    "c1 = Car(\"Toyota\",\"Fortuner\")    #c1 is an object/instance of Car class\n",
    "c1.brand,c1.model\n",
    "\n"
   ]
  },
  {
   "cell_type": "code",
   "execution_count": 2,
   "id": "ac566ec7-d0a4-4b73-bce0-dafba7da08ef",
   "metadata": {},
   "outputs": [],
   "source": [
    "# # Ans 2:\n",
    "# The four pillars of object-oriented programming are:\n",
    "# 1. Inheritance; \n",
    "# 2. Polymorphism, \n",
    "# 3. Encapsulation, \n",
    "# 4. Abstraction"
   ]
  },
  {
   "cell_type": "code",
   "execution_count": 8,
   "id": "b1609d4a-63e6-4705-ac38-a90b10e8c796",
   "metadata": {},
   "outputs": [
    {
     "name": "stdout",
     "output_type": "stream",
     "text": [
      "Suharsh\n",
      "24\n"
     ]
    }
   ],
   "source": [
    "# # Ans 3:\n",
    "\n",
    "# All classes have a function called __init__(), which is always executed when the class is being initiated.\n",
    "\n",
    "# Use the __init__() function to assign values to object properties, or other operations that are necessary to do when the object is being created\n",
    "\n",
    "# example:\n",
    "class Person:\n",
    "    def __init__(self, name, age):\n",
    "        self.name = name\n",
    "        self.age = age\n",
    "    \n",
    "p1 = Person(\"Suharsh\", 24)\n",
    "\n",
    "print(p1.name)\n",
    "print(p1.age)"
   ]
  },
  {
   "cell_type": "code",
   "execution_count": 4,
   "id": "3dd66dd3-443d-4a40-a739-008ea4f79684",
   "metadata": {},
   "outputs": [],
   "source": [
    "# # Ans 4:\n",
    "# The self parameter is a reference to the current instance of the class, \n",
    "# It is used to access variables that belongs to the class."
   ]
  },
  {
   "cell_type": "code",
   "execution_count": 5,
   "id": "cd9eabc3-bf8a-45e2-84f6-9933a02da7cb",
   "metadata": {},
   "outputs": [],
   "source": [
    "# # Ans 5:\n",
    "# Inheritance is defined as the mechanism of inheriting the properties of the base class to the child class.\n",
    "\n",
    "# Types of inheritance in Python:\n",
    "# 1. Single Inheritance\n",
    "# 2. Multiple Inheritance\n",
    "# 3. Multi-level Inheritance \n",
    "# 4. Hierarchical Inheritance**\n",
    "# 5. Hybrid Inheritance**\n",
    "\n"
   ]
  },
  {
   "cell_type": "code",
   "execution_count": 25,
   "id": "0f18a526-dc72-4fb8-8894-021917c935a4",
   "metadata": {},
   "outputs": [
    {
     "name": "stdout",
     "output_type": "stream",
     "text": [
      "This function is in parent class\n"
     ]
    }
   ],
   "source": [
    "# Example of Single-Inheritance:\n",
    "\n",
    "class test:\n",
    "    def func1(self):\n",
    "        print(\"This function is in parent class\")\n",
    "\n",
    "class child_test(test):\n",
    "    pass\n",
    "        \n",
    "obj1 = child_test()\n",
    "obj1.func1()\n"
   ]
  },
  {
   "cell_type": "code",
   "execution_count": 19,
   "id": "d8334eaf-ad0a-4ae1-ba35-e20c25ea797e",
   "metadata": {},
   "outputs": [
    {
     "name": "stdout",
     "output_type": "stream",
     "text": [
      "Learnt Singing from Mom\n",
      "Learnt driving from Dad\n"
     ]
    }
   ],
   "source": [
    "# Example of Multiple-Inheritance:\n",
    "\n",
    "class Mom:\n",
    "    def sing(self):\n",
    "        print(\"Learnt Singing from Mom\")\n",
    "\n",
    "class Dad:\n",
    "    def drive(self):\n",
    "        print(\"Learnt driving from Dad\")\n",
    "\n",
    "class Son(Mom,Dad):\n",
    "    pass\n",
    "\n",
    "s1 = Son()\n",
    "s1.sing()\n",
    "s1.drive()"
   ]
  },
  {
   "cell_type": "code",
   "execution_count": 24,
   "id": "3f5b6a96-bf92-4704-9a14-9bc1396b7bc4",
   "metadata": {},
   "outputs": [
    {
     "data": {
      "text/plain": [
       "('This is a method from class1', 'This is a method from class 2')"
      ]
     },
     "execution_count": 24,
     "metadata": {},
     "output_type": "execute_result"
    }
   ],
   "source": [
    "# Example of multi-level inheritance\n",
    "class class1:\n",
    "    \n",
    "    def test_class1(self):\n",
    "        return \"This is a method from class1\"\n",
    "class class2(class1):\n",
    "    \n",
    "    def test_class2(self):\n",
    "        return \"This is a method from class 2\"\n",
    "class class3(class2):\n",
    "    pass\n",
    "class3_obj = class3()\n",
    "class3_obj.test_class1(),class3_obj.test_class2()"
   ]
  },
  {
   "cell_type": "code",
   "execution_count": null,
   "id": "c1d9eec1-3919-4dc7-9aaa-56ff6e6d6a1f",
   "metadata": {},
   "outputs": [],
   "source": []
  }
 ],
 "metadata": {
  "kernelspec": {
   "display_name": "Python 3 (ipykernel)",
   "language": "python",
   "name": "python3"
  },
  "language_info": {
   "codemirror_mode": {
    "name": "ipython",
    "version": 3
   },
   "file_extension": ".py",
   "mimetype": "text/x-python",
   "name": "python",
   "nbconvert_exporter": "python",
   "pygments_lexer": "ipython3",
   "version": "3.10.8"
  }
 },
 "nbformat": 4,
 "nbformat_minor": 5
}
