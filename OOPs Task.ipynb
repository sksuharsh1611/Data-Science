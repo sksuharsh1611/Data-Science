{
 "cells": [
  {
   "cell_type": "code",
   "execution_count": 1,
   "id": "eb276ea3-d63a-40bb-bbab-1055b729346a",
   "metadata": {},
   "outputs": [],
   "source": [
    "# Sol 1:\n",
    "class Vehicle:\n",
    "    def __init__(self , name_of_vehicle, max_speed , average_of_vehicle):\n",
    "        self.name_of_vehicle = name_of_vehicle\n",
    "        self.max_speed = max_speed\n",
    "        self.average_of_vehicle = average_of_vehicle\n"
   ]
  },
  {
   "cell_type": "code",
   "execution_count": 10,
   "id": "05513b4d-8ef1-445f-b476-5598b8a0bbff",
   "metadata": {},
   "outputs": [
    {
     "data": {
      "text/plain": [
       "('WagonR', 5)"
      ]
     },
     "execution_count": 10,
     "metadata": {},
     "output_type": "execute_result"
    }
   ],
   "source": [
    "# Sol 2:\n",
    "class Model(Vehicle):\n",
    "    def seating_capacity(self, capacity):\n",
    "        # Set the capacity instance variable to the provided capacity argument\n",
    "        self.capacity = capacity\n",
    "        # Return a tuple of the name of the vehicle and the seating capacity\n",
    "        return self.name_of_vehicle, self.capacity\n",
    "\n",
    "c1 = model(\"WagonR\",140, 30)\n",
    "c1.seating_capacity(5)"
   ]
  },
  {
   "cell_type": "code",
   "execution_count": 18,
   "id": "9243b947-84df-4160-8238-ac32e6ce7b7e",
   "metadata": {},
   "outputs": [
    {
     "data": {
      "text/plain": [
       "('Father teaches driving',\n",
       " 'Mother teaches cooking',\n",
       " 'Above activities learnt from Father and Mother')"
      ]
     },
     "execution_count": 18,
     "metadata": {},
     "output_type": "execute_result"
    }
   ],
   "source": [
    "# Sol 3:\n",
    "# Multiple inheritance is a feature of object-oriented programming languages where a subclass can inherit properties and methods from multiple parent classes. \n",
    "# This allows for greater flexibility and code reuse in complex class hierarchies.\n",
    "\n",
    "class Father:\n",
    "    def drive(self):\n",
    "        return \"Father teaches driving\"\n",
    "class Mother:\n",
    "    def cook(self):\n",
    "        return \"Mother teaches cooking\"\n",
    "class Child(Father,Mother):\n",
    "    def activity(self):\n",
    "        return \"Above activities learnt from Father and Mother\"\n",
    "\n",
    "c1 = Child()\n",
    "c1.drive(),c1.cook(),c1.activity()\n",
    "    "
   ]
  },
  {
   "cell_type": "code",
   "execution_count": 19,
   "id": "78ddbdbd-0d61-4997-9b2f-775d571c1d97",
   "metadata": {},
   "outputs": [
    {
     "name": "stdout",
     "output_type": "stream",
     "text": [
      "Suharsh\n"
     ]
    }
   ],
   "source": [
    "# Sol 4:\n",
    "'''\n",
    "Getter and setter methods are used in object-oriented programming to control access to an object's attributes.\n",
    "\n",
    "In Python, we can define getter and setter methods using the @property and @<attribute>.setter decorators.\n",
    "'''\n",
    "\n",
    "class Person:\n",
    "    def __init__(self, name, age):\n",
    "        self._name = name\n",
    "        self._age = age\n",
    "\n",
    "    # Getter method for the name attribute\n",
    "    @property\n",
    "    def name(self):\n",
    "        return self._name\n",
    "\n",
    "    # Setter method for the name attribute\n",
    "    @name.setter\n",
    "    def name(self, name):\n",
    "        self._name = name\n",
    "\n",
    "    # Getter method for the age attribute\n",
    "    @property\n",
    "    def age(self):\n",
    "        return self._age\n",
    "\n",
    "    # Setter method for the age attribute\n",
    "    @age.setter\n",
    "    def age(self, age):\n",
    "        if age < 0:\n",
    "            raise ValueError(\"Age cannot be negative.\")\n",
    "        self._age = age\n",
    "\n",
    "\n",
    "p = Person(\"Suharsh\",25)\n",
    "print(p.name)"
   ]
  },
  {
   "cell_type": "code",
   "execution_count": 20,
   "id": "d6f22245-b645-413a-b418-9878a0fc655e",
   "metadata": {},
   "outputs": [
    {
     "name": "stdout",
     "output_type": "stream",
     "text": [
      "Sudhanshu\n"
     ]
    }
   ],
   "source": [
    "p.name = \"Sudhanshu\"\n",
    "print(p.name)"
   ]
  },
  {
   "cell_type": "code",
   "execution_count": 21,
   "id": "36dde6ae-ba43-4773-9a53-6d584257a21b",
   "metadata": {},
   "outputs": [
    {
     "name": "stdout",
     "output_type": "stream",
     "text": [
      "25\n"
     ]
    }
   ],
   "source": [
    "print(p.age)"
   ]
  },
  {
   "cell_type": "code",
   "execution_count": 22,
   "id": "321d29fd-3138-4a2c-9398-bbc3500e36a2",
   "metadata": {},
   "outputs": [
    {
     "name": "stdout",
     "output_type": "stream",
     "text": [
      "34\n"
     ]
    }
   ],
   "source": [
    "p.age = 34\n",
    "print(p.age)"
   ]
  },
  {
   "cell_type": "code",
   "execution_count": 24,
   "id": "9a07502b-6f4d-462d-9ed9-e845f75378b6",
   "metadata": {},
   "outputs": [
    {
     "ename": "ValueError",
     "evalue": "Age cannot be negative.",
     "output_type": "error",
     "traceback": [
      "\u001b[0;31m---------------------------------------------------------------------------\u001b[0m",
      "\u001b[0;31mValueError\u001b[0m                                Traceback (most recent call last)",
      "Cell \u001b[0;32mIn[24], line 1\u001b[0m\n\u001b[0;32m----> 1\u001b[0m \u001b[43mp\u001b[49m\u001b[38;5;241;43m.\u001b[39;49m\u001b[43mage\u001b[49m \u001b[38;5;241m=\u001b[39m \u001b[38;5;241m-\u001b[39m\u001b[38;5;241m35\u001b[39m\n\u001b[1;32m      2\u001b[0m \u001b[38;5;28mprint\u001b[39m(p\u001b[38;5;241m.\u001b[39mage)\n",
      "Cell \u001b[0;32mIn[19], line 32\u001b[0m, in \u001b[0;36mPerson.age\u001b[0;34m(self, age)\u001b[0m\n\u001b[1;32m     29\u001b[0m \u001b[38;5;129m@age\u001b[39m\u001b[38;5;241m.\u001b[39msetter\n\u001b[1;32m     30\u001b[0m \u001b[38;5;28;01mdef\u001b[39;00m \u001b[38;5;21mage\u001b[39m(\u001b[38;5;28mself\u001b[39m, age):\n\u001b[1;32m     31\u001b[0m     \u001b[38;5;28;01mif\u001b[39;00m age \u001b[38;5;241m<\u001b[39m \u001b[38;5;241m0\u001b[39m:\n\u001b[0;32m---> 32\u001b[0m         \u001b[38;5;28;01mraise\u001b[39;00m \u001b[38;5;167;01mValueError\u001b[39;00m(\u001b[38;5;124m\"\u001b[39m\u001b[38;5;124mAge cannot be negative.\u001b[39m\u001b[38;5;124m\"\u001b[39m)\n\u001b[1;32m     33\u001b[0m     \u001b[38;5;28mself\u001b[39m\u001b[38;5;241m.\u001b[39m_age \u001b[38;5;241m=\u001b[39m age\n",
      "\u001b[0;31mValueError\u001b[0m: Age cannot be negative."
     ]
    }
   ],
   "source": [
    "p.age = -35\n",
    "print(p.age)"
   ]
  },
  {
   "cell_type": "code",
   "execution_count": 32,
   "id": "700bd075-5375-4ed0-9cc6-c05f68a3558d",
   "metadata": {},
   "outputs": [
    {
     "data": {
      "text/plain": [
       "'Mentor teaches students'"
      ]
     },
     "execution_count": 32,
     "metadata": {},
     "output_type": "execute_result"
    }
   ],
   "source": [
    "# Sol 5:\n",
    "'''\n",
    "Method overriding in Python is a process of redefining a method in a subclass with the same name \n",
    "and signature as a method in the superclass. \n",
    "The method in the subclass replaces the method in the superclass.\n",
    "\n",
    "'''\n",
    "# Defining the Coaching class with a teaching method\n",
    "class Coaching:\n",
    "    def teaching(self):\n",
    "        return \"Mentor teaches students\"\n",
    "\n",
    "# Defining the School class as a subclass of Coaching\n",
    "class School(Coaching):\n",
    "    # Override the teaching method\n",
    "    def teaching(self):\n",
    "        return \"Teacher teaches students\"\n",
    "    \n",
    "# Creating an instance of the Coaching class and call the teaching method\n",
    "stud1 = Coaching()\n",
    "stud1.teaching()\n"
   ]
  },
  {
   "cell_type": "code",
   "execution_count": 34,
   "id": "056fcbbd-083e-44a5-a20f-272b182f16ca",
   "metadata": {},
   "outputs": [
    {
     "data": {
      "text/plain": [
       "'Teacher teaches students'"
      ]
     },
     "execution_count": 34,
     "metadata": {},
     "output_type": "execute_result"
    }
   ],
   "source": [
    "# Creating an instance of the School class and call the teaching method\n",
    "stud2 = School()\n",
    "stud2.teaching()"
   ]
  },
  {
   "cell_type": "code",
   "execution_count": null,
   "id": "b8427b37-9763-40e1-9654-3e5491bc73bf",
   "metadata": {},
   "outputs": [],
   "source": [
    "'''\n",
    "\n",
    "In the code, an instance of the Coaching class named stud1 is created, and the teaching() method of the Coaching class is called on it. \n",
    "The method returns the string \"Mentor teaches students\".\n",
    "\n",
    "Next, an instance of the School class named stud2 is created, and the teaching() method of the School class is called on it. \n",
    "Since the School class overrides the teaching() method, \n",
    "The method returns the string \"Teacher teaches students\".\n",
    "\n",
    "'''"
   ]
  }
 ],
 "metadata": {
  "kernelspec": {
   "display_name": "Python 3 (ipykernel)",
   "language": "python",
   "name": "python3"
  },
  "language_info": {
   "codemirror_mode": {
    "name": "ipython",
    "version": 3
   },
   "file_extension": ".py",
   "mimetype": "text/x-python",
   "name": "python",
   "nbconvert_exporter": "python",
   "pygments_lexer": "ipython3",
   "version": "3.10.8"
  }
 },
 "nbformat": 4,
 "nbformat_minor": 5
}
