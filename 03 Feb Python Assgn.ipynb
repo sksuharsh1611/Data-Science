{
 "cells": [
  {
   "cell_type": "code",
   "execution_count": 3,
   "id": "e16e4ad5-8a54-46e3-b911-66a46e91c43c",
   "metadata": {},
   "outputs": [
    {
     "data": {
      "text/plain": [
       "[1, 3, 5, 7, 9, 11, 13, 15, 17, 19, 21, 23, 25]"
      ]
     },
     "execution_count": 3,
     "metadata": {},
     "output_type": "execute_result"
    }
   ],
   "source": [
    "# Ans 1: def keyword is used to create a function.\n",
    "def list_odd():    #Defining function\n",
    "    odd_list = []   #Creating an empty list\n",
    "    for i in range(1,26):   #Generate Loop upto 25\n",
    "        if i%2 == 1:       #Checking for odd numbers if number divided by 2 gives remainder 1\n",
    "            odd_list.append(i)    #appending comouted values into list\n",
    "    return odd_list         #Returning final list\n",
    "list_odd()    #Calling the function\n",
    "        "
   ]
  },
  {
   "cell_type": "code",
   "execution_count": 12,
   "id": "3d3f0409-329d-4c34-b30b-3887535296ae",
   "metadata": {},
   "outputs": [
    {
     "data": {
      "text/plain": [
       "(1, 2, 3, 4, 5)"
      ]
     },
     "execution_count": 12,
     "metadata": {},
     "output_type": "execute_result"
    }
   ],
   "source": [
    "# Ans 2:\n",
    "# *args >> streik means N number of arguments can be passed in a function\n",
    "         # To make dynamic inputs to functions\n",
    "# **kwargs >> Used for key value pair values\n",
    "def test1(*args):\n",
    "    return args\n",
    "test1(1,2,3,4,5)\n"
   ]
  },
  {
   "cell_type": "code",
   "execution_count": 13,
   "id": "f4e93387-4167-40bb-be77-68818a8494f0",
   "metadata": {},
   "outputs": [
    {
     "data": {
      "text/plain": [
       "{'a': [1, 2, 3, 4], 'n': 'suharsh', 'c': 54.21}"
      ]
     },
     "execution_count": 13,
     "metadata": {},
     "output_type": "execute_result"
    }
   ],
   "source": [
    "def test2(**kwargs):  #for key value pair values\n",
    "    return kwargs\n",
    "test2(a=[1,2,3,4],n=\"suharsh\",c=54.21)"
   ]
  },
  {
   "cell_type": "code",
   "execution_count": 84,
   "id": "a0324cc2-30ce-4102-8399-8f625001e5b4",
   "metadata": {},
   "outputs": [
    {
     "name": "stdout",
     "output_type": "stream",
     "text": [
      "2\n",
      "4\n",
      "6\n",
      "8\n",
      "10\n"
     ]
    }
   ],
   "source": [
    "# Ans 3:\n",
    "# Iterator in Python is an object that is used to iterate over iterable objects like lists, tuples, dicts, and sets.\n",
    "# The iterator object is initialized using the iter() method. \n",
    "# It uses the next() method for iteration.\n",
    "\n",
    "# example:\n",
    "# str1 = 'SUHARSH'\n",
    "# str_itr = iter(str1)\n",
    "\n",
    "# print(next(str_itr))\n",
    "# print(next(str_itr))\n",
    "# print(next(str_itr))\n",
    "Output='''\n",
    "S\n",
    "U\n",
    "H\n",
    "'''\n",
    "\n",
    "list1 = [2,4,6,8,10,12,14,16,18,20]    #Defining list\n",
    "l=iter(list1)            #making list object as iterator \n",
    "i=1               #initializing variable \n",
    "while i<6:          #Return while condition is true\n",
    "    print(next(l))   #printing next element\n",
    "    i+=1            #Loop incremented by 1\n",
    "\n",
    "    "
   ]
  },
  {
   "cell_type": "code",
   "execution_count": 21,
   "id": "a1096e7f-a546-4bc0-a0dd-0a65c4737103",
   "metadata": {},
   "outputs": [
    {
     "name": "stdout",
     "output_type": "stream",
     "text": [
      "1\n",
      "2\n",
      "3\n"
     ]
    }
   ],
   "source": [
    "# # # Ans 4:\n",
    "# #  A generator is a function that returns an iterator that produces a sequence of values when iterated over. \n",
    "# #  Generators are useful when we want to produce a large sequence of values,\n",
    "# #   If the body of a def contains yield, the function automatically becomes a generator function. \n",
    "\n",
    "\n",
    "# Yield Keyword >yield keyword is used to create a generator function. \n",
    "# A type of function that is memory efficient and can be used like an iterator object\n",
    "\n",
    "# Example:\n",
    "# A generator function that yields 1 for first time,\n",
    "# 2 second time and 3 third time\n",
    "def simpleGeneratorFun():\n",
    "    yield 1           \n",
    "    yield 2           \n",
    "    yield 3           \n",
    "\n",
    "# code to check above generator function\n",
    "for value in simpleGeneratorFun():\n",
    "    print(value)"
   ]
  },
  {
   "cell_type": "code",
   "execution_count": 82,
   "id": "901976b3-ffc8-49fc-8bec-26fa297ff648",
   "metadata": {},
   "outputs": [
    {
     "name": "stdout",
     "output_type": "stream",
     "text": [
      "2\n",
      "3\n",
      "5\n",
      "7\n",
      "11\n",
      "13\n",
      "17\n",
      "19\n",
      "23\n",
      "29\n",
      "31\n",
      "37\n",
      "41\n",
      "43\n",
      "47\n",
      "53\n",
      "59\n",
      "61\n",
      "67\n",
      "71\n"
     ]
    }
   ],
   "source": [
    "# Ans 5:\n",
    "def check_prime(n):   #Creating method for checking prime numbers\n",
    "    if n<=1:         #Corner case checking while number is negative \n",
    "        return False \n",
    "    for i in range(2,n):     #Starting loop from 2; smallest prime number till n\n",
    "        if n % i == 0:       #Checking if number divisible by itself\n",
    "            return False \n",
    "    return True          #returning true if condition satisfies\n",
    "\n",
    "def generate_prime(n):     #Creating generator method for prime number generation\n",
    "    for i in range(2,n+1):   #loop starting till n+1\n",
    "        if check_prime(i):\n",
    "            yield i          #yielding every primes\n",
    "\n",
    "\n",
    "prime = generate_prime(1000)   #Creating object for the method\n",
    "for i in range(1,21):        #Printing primes upto 20\n",
    "    print(next(prime))     #Final output\n",
    "\n",
    "    "
   ]
  },
  {
   "cell_type": "code",
   "execution_count": 43,
   "id": "7461dc1f-4d2b-48fc-ae36-2a3cfcd9a2cd",
   "metadata": {},
   "outputs": [
    {
     "name": "stdout",
     "output_type": "stream",
     "text": [
      "0\n",
      "1\n",
      "1\n",
      "2\n",
      "3\n",
      "5\n",
      "8\n",
      "13\n",
      "21\n",
      "34\n"
     ]
    }
   ],
   "source": [
    "# Ans 6: Program to print the first 10 Fibonacci numbers using a while loop.\n",
    "def test_fib1():\n",
    "    a,b =0,1\n",
    "    while True:\n",
    "        yield a  #like return and assigning values in loop\n",
    "        a,b = b,a+b\n",
    "\n",
    "fib = test_fib1()\n",
    "for i in range(10):\n",
    "    print(next(fib))"
   ]
  },
  {
   "cell_type": "code",
   "execution_count": 46,
   "id": "96cf4510-a826-45a4-b63c-fb5e1b485aa8",
   "metadata": {},
   "outputs": [
    {
     "data": {
      "text/plain": [
       "['p', 'w', 's', 'k', 'i', 'l', 'l', 's']"
      ]
     },
     "execution_count": 46,
     "metadata": {},
     "output_type": "execute_result"
    }
   ],
   "source": [
    "# Ans 7:\n",
    "str1 ='pwskills'\n",
    "\n",
    "[i for i in str1]   #using list-comprehension"
   ]
  },
  {
   "cell_type": "code",
   "execution_count": 63,
   "id": "f214f518-bf87-4671-b6dc-c5739b1c6856",
   "metadata": {},
   "outputs": [
    {
     "name": "stdin",
     "output_type": "stream",
     "text": [
      "Enter your number: 455454\n"
     ]
    },
    {
     "name": "stdout",
     "output_type": "stream",
     "text": [
      "Entered number is not palindrome!\n"
     ]
    }
   ],
   "source": [
    "# Ans 8:\n",
    "\n",
    "num = int(input(\"Enter your number:\"))\n",
    "palin = num\n",
    "rev = 0\n",
    "while num>0:\n",
    "    a = num % 10\n",
    "    rev = rev * 10 + a\n",
    "    num = num//10\n",
    "if(palin == rev):\n",
    "    print(\"Entered number is palindrome\")\n",
    "else:\n",
    "    print(\"Entered number is not palindrome!\")\n",
    "\n",
    "\n"
   ]
  },
  {
   "cell_type": "code",
   "execution_count": 53,
   "id": "c14339c4-4916-4a45-94c0-e85854a2a95f",
   "metadata": {},
   "outputs": [
    {
     "data": {
      "text/plain": [
       "[1,\n",
       " 3,\n",
       " 5,\n",
       " 7,\n",
       " 9,\n",
       " 11,\n",
       " 13,\n",
       " 15,\n",
       " 17,\n",
       " 19,\n",
       " 21,\n",
       " 23,\n",
       " 25,\n",
       " 27,\n",
       " 29,\n",
       " 31,\n",
       " 33,\n",
       " 35,\n",
       " 37,\n",
       " 39,\n",
       " 41,\n",
       " 43,\n",
       " 45,\n",
       " 47,\n",
       " 49,\n",
       " 51,\n",
       " 53,\n",
       " 55,\n",
       " 57,\n",
       " 59,\n",
       " 61,\n",
       " 63,\n",
       " 65,\n",
       " 67,\n",
       " 69,\n",
       " 71,\n",
       " 73,\n",
       " 75,\n",
       " 77,\n",
       " 79,\n",
       " 81,\n",
       " 83,\n",
       " 85,\n",
       " 87,\n",
       " 89,\n",
       " 91,\n",
       " 93,\n",
       " 95,\n",
       " 97,\n",
       " 99]"
      ]
     },
     "execution_count": 53,
     "metadata": {},
     "output_type": "execute_result"
    }
   ],
   "source": [
    "# Ans 9:\n",
    "a= [i for i in range(1,101)]  #list comprehension to create a list from 1 to 100\n",
    "[j for j in a if j%2 == 1 ]   #List comprehension to filter\n",
    "out odd numbers."
   ]
  },
  {
   "cell_type": "code",
   "execution_count": null,
   "id": "b4bc1e9e-86b3-4351-b9ec-e1dd245b6972",
   "metadata": {},
   "outputs": [],
   "source": []
  }
 ],
 "metadata": {
  "kernelspec": {
   "display_name": "Python 3 (ipykernel)",
   "language": "python",
   "name": "python3"
  },
  "language_info": {
   "codemirror_mode": {
    "name": "ipython",
    "version": 3
   },
   "file_extension": ".py",
   "mimetype": "text/x-python",
   "name": "python",
   "nbconvert_exporter": "python",
   "pygments_lexer": "ipython3",
   "version": "3.10.8"
  }
 },
 "nbformat": 4,
 "nbformat_minor": 5
}
