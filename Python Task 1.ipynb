{
 "cells": [
  {
   "cell_type": "code",
   "execution_count": 25,
   "id": "6a16ad71-f46e-4eaa-8f04-fc156995ef91",
   "metadata": {},
   "outputs": [
    {
     "name": "stdout",
     "output_type": "stream",
     "text": [
      "Final Product of flattened list: 4134711838987085478833841242112000\n"
     ]
    }
   ],
   "source": [
    "# Sol 1:\n",
    "def create_flat_list(input_list):\n",
    "    # This function flattens a nested list by extracting all elements and placing them in a single list.\n",
    "    \n",
    "    flat_list= []  # create an empty list to hold the flattened list\n",
    "    for item in input_list:  # iterate over each item in the input list\n",
    "        try:\n",
    "            if type(item) == list:  # if the item is a list\n",
    "                flat_list+= create_flat_list(item)  # recursively call this function on the item and add the resulting list to flat_list\n",
    "            elif type(item) == tuple:  # if the item is a tuple\n",
    "                flat_list+= create_flat_list(list(item))  # convert the tuple to a list, recursively call this function on the list, and add the resulting list to flat_list\n",
    "            elif type(item) == set:  # if the item is a set\n",
    "                flat_list+= create_flat_list(list(item))  # convert the set to a list, recursively call this function on the list, and add the resulting list to flat_list\n",
    "            elif type(item) == dict:  # if the item is a dictionary\n",
    "                flat_list+= create_flat_list(list(item.keys()))  # recursively call this function on the keys of the dictionary, and add the resulting list to flat_list\n",
    "                flat_list+= create_flat_list(list(item.values()))  # recursively call this function on the values of the dictionary, and add the resulting list to flat_list\n",
    "            elif type(item) in (int, float):  # if the item is a number\n",
    "                flat_list.append(item)  # add the item to flat_list\n",
    "        except:\n",
    "            continue\n",
    "    return flat_list  # return the flattened list\n",
    "\n",
    "\n",
    "def product_of_numbers(input_list):\n",
    "    # This function calculates the product of all the numbers in a given list, including nested data structures.\n",
    "    \n",
    "    try:\n",
    "        flat_list = create_flat_list(input_list)  # call create_flat_list to obtain a flattened list of all numeric values in input_list\n",
    "    except TypeError:\n",
    "        return \"Invalid input: list contains non-numeric elements\"  # return an error message if create_flat_list cannot flatten the list\n",
    "    product = 1  # initialize product to 1\n",
    "    for num in flat_list:  # iterate over each number in flat_list\n",
    "        product *= num  # multiply the product by the current number\n",
    "    return product  # return the final product\n",
    "\n",
    "# Input list ->>\n",
    "list1 = [1,2,3,4, [44,55,66,True], False, (34,56,78,89,34), {1,2,3,3,2,1}, {1:34, \"key2\": [55, 67, 78, 89], 4: (45,\n",
    "22, 61, 34)}, [56, 'data science'], 'Machine Learning']\n",
    "\n",
    "result = 0\n",
    "try:\n",
    "    result = product_of_numbers(list1)  # call product_of_numbers on list1 to obtain the product of all its numeric values\n",
    "except:\n",
    "    print(\"An error occurred while processing the input list\")  # print an error message if an error occurs\n",
    "\n",
    "if result != 0:\n",
    "    print(\"Final Product of flattened list:\",result)  # print the result to the console if no error occurs\n"
   ]
  },
  {
   "cell_type": "code",
   "execution_count": 27,
   "id": "90dfd318-d388-4f56-9b0a-170c609b1110",
   "metadata": {},
   "outputs": [
    {
     "name": "stdout",
     "output_type": "stream",
     "text": [
      "Your encrypted message will be: r$dzmg$gl$yvxlnv$z$wzgz$hxrvmgrhg.\n"
     ]
    }
   ],
   "source": [
    "# Sol 2:\n",
    "def encrypt_message(message):\n",
    "    \"\"\"Encrypt a message by replacing letters with their corresponding counterparts.\"\"\"\n",
    "    encrypted = \"\"  # Create an empty string to store the encrypted message\n",
    "    for letter in message:\n",
    "        if letter == \" \":  # If the character is a space,\n",
    "            encrypted += \"$\"  # replace it with a dollar sign\n",
    "        elif letter.isalpha():  # If the character is a letter,\n",
    "            # Convert the letter to its corresponding counterpart\n",
    "            new_letter = chr(219 - ord(letter))\n",
    "            encrypted += new_letter.lower()  # Convert to lowercase and add to the encrypted message\n",
    "        else:  # If the character is not a letter or a space (e.g. a punctuation mark),\n",
    "            encrypted += letter  # add it to the encrypted message unchanged\n",
    "    return encrypted  # Return the encrypted message\n",
    "\n",
    "# Encrypt the input sentence\n",
    "input_sentence = \"I want to become a Data Scientist.\"\n",
    "encrypted_sentence = encrypt_message(input_sentence.lower())\n",
    "\n",
    "# Print the encrypted sentence\n",
    "print(\"Your encrypted message will be:\",encrypted_sentence)\n"
   ]
  },
  {
   "cell_type": "code",
   "execution_count": null,
   "id": "1e4eeaaf-045a-4b82-9a76-599dfb11b9cf",
   "metadata": {},
   "outputs": [],
   "source": []
  }
 ],
 "metadata": {
  "kernelspec": {
   "display_name": "Python 3 (ipykernel)",
   "language": "python",
   "name": "python3"
  },
  "language_info": {
   "codemirror_mode": {
    "name": "ipython",
    "version": 3
   },
   "file_extension": ".py",
   "mimetype": "text/x-python",
   "name": "python",
   "nbconvert_exporter": "python",
   "pygments_lexer": "ipython3",
   "version": "3.10.8"
  }
 },
 "nbformat": 4,
 "nbformat_minor": 5
}
