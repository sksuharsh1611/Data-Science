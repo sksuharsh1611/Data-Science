{
 "cells": [
  {
   "cell_type": "code",
   "execution_count": 56,
   "id": "9c6f681f-e7fb-44dc-a3d4-a2f971e32dfd",
   "metadata": {},
   "outputs": [
    {
     "name": "stdout",
     "output_type": "stream",
     "text": [
      "[('Virat Kohli', 24936), ('Jack Kallis', 25534), ('Ricky Ponting', 27483), ('Sachin Tendulkar', 34357)]\n"
     ]
    }
   ],
   "source": [
    "# Ans 1:\n",
    "#pre-defined list\n",
    "list1= [('Sachin Tendulkar', 34357), \n",
    "        ('Ricky Ponting', 27483), \n",
    "        ('Jack Kallis', 25534), \n",
    "        ('Virat Kohli', 24936)]\n",
    "\n",
    "newList = sorted(list1, key = lambda x : x[1],reverse = False)  #using sorted function :Signature: sorted(iterable, /, *, key=None, reverse=False)\n",
    "print(newList)    #printing new list"
   ]
  },
  {
   "cell_type": "code",
   "execution_count": 34,
   "id": "54372999-4d60-4374-b379-b0b4ac8efbb8",
   "metadata": {},
   "outputs": [
    {
     "name": "stdout",
     "output_type": "stream",
     "text": [
      "[1, 4, 9, 16, 25, 36, 49, 64, 81, 100]\n"
     ]
    }
   ],
   "source": [
    "# Ans 2:\n",
    "l= [1, 2, 3, 4, 5, 6, 7, 8, 9, 10]   #pre-defined list\n",
    "squared_list = list(map(lambda x: x**2 , l))  #generating squares of each list element and storing in variable squared_list\n",
    "print(squared_list)   #printing final list"
   ]
  },
  {
   "cell_type": "code",
   "execution_count": 33,
   "id": "1db91476-f2ad-4e8f-8bb8-b0c9485af9f0",
   "metadata": {},
   "outputs": [
    {
     "name": "stdout",
     "output_type": "stream",
     "text": [
      "('1', '2', '3', '4', '5', '6', '7', '8', '9', '10')\n"
     ]
    }
   ],
   "source": [
    "# Ans 3:\n",
    "Given_list = [1, 2, 3, 4, 5, 6, 7, 8, 9, 10]   #Pre- defined list\n",
    "final_tuple= tuple(map(lambda x:str(x),l))  #Typecasting values of list as string and printing in tuple\n",
    "print(final_tuple)"
   ]
  },
  {
   "cell_type": "code",
   "execution_count": 32,
   "id": "cff69701-5c14-4a8c-8881-c21398b8afc4",
   "metadata": {},
   "outputs": [
    {
     "name": "stdout",
     "output_type": "stream",
     "text": [
      "3628800\n"
     ]
    }
   ],
   "source": [
    "# Ans 4:\n",
    "from functools import reduce    #importing reduce function from functools\n",
    "l1=[]          #Defining empty list\n",
    "for i in range(1,26):  #Loop to range 1 to 25\n",
    "    l1.append(i)     #appending values in list l1\n",
    "final_product = reduce(lambda x,y : x*y,l)   #using reduce function to compute the product of a list containing numbers from 1 to 25.\n",
    "print(final_product) #printing final product"
   ]
  },
  {
   "cell_type": "code",
   "execution_count": 31,
   "id": "a09774aa-375c-4043-a9a3-b96c13d200b0",
   "metadata": {},
   "outputs": [
    {
     "name": "stdout",
     "output_type": "stream",
     "text": [
      "[2, 3, 6, 9, 27, 60, 90, 120, 46]\n"
     ]
    }
   ],
   "source": [
    "# Ans 5:\n",
    "list3= [2, 3, 6, 9, 27, 60, 90, 120, 55, 46]    #Pre-defined list\n",
    "\n",
    "final_list = list(filter(lambda x: x%2 == 0 or x%3 ==0, list3)) #Filtering numbers which are divisible by 2 and 3\n",
    "print(final_list)   #printing final list"
   ]
  },
  {
   "cell_type": "code",
   "execution_count": 30,
   "id": "e3133085-d3ae-4124-82a7-262f88390797",
   "metadata": {},
   "outputs": [
    {
     "data": {
      "text/plain": [
       "['php', 'aba', 'radar', 'level']"
      ]
     },
     "execution_count": 30,
     "metadata": {},
     "output_type": "execute_result"
    }
   ],
   "source": [
    "# Ans 6:\n",
    "List2 = ['python', 'php', 'aba', 'radar', 'level']    #Pre-defined list\n",
    "\n",
    "list(filter(lambda x: (x == \"\".join(reversed(x))),List2))   #printing final list only having palindromes\n"
   ]
  },
  {
   "cell_type": "code",
   "execution_count": null,
   "id": "dc41cef7-f9a0-46fb-92cb-708464e2ed13",
   "metadata": {},
   "outputs": [],
   "source": []
  }
 ],
 "metadata": {
  "kernelspec": {
   "display_name": "Python 3 (ipykernel)",
   "language": "python",
   "name": "python3"
  },
  "language_info": {
   "codemirror_mode": {
    "name": "ipython",
    "version": 3
   },
   "file_extension": ".py",
   "mimetype": "text/x-python",
   "name": "python",
   "nbconvert_exporter": "python",
   "pygments_lexer": "ipython3",
   "version": "3.10.8"
  }
 },
 "nbformat": 4,
 "nbformat_minor": 5
}
