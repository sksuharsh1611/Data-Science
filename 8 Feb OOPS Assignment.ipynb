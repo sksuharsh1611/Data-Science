{
 "cells": [
  {
   "cell_type": "code",
   "execution_count": 3,
   "id": "e78593da-7d24-4714-b70b-a9d1f2e06df7",
   "metadata": {},
   "outputs": [
    {
     "data": {
      "text/plain": [
       "('Car is displaying speed',\n",
       " 'Minimum seating capacity in a Car is 4',\n",
       " 'Bike is displaying speed',\n",
       " 'Minimum seating capacity on a Bike is 2')"
      ]
     },
     "execution_count": 3,
     "metadata": {},
     "output_type": "execute_result"
    }
   ],
   "source": [
    "#  Sol 1:\n",
    "\n",
    "# Abstraction is one of the four fundamental principles of object-oriented programming (OOP) which refers to hiding the internal complexity of an object from the user.\n",
    "# It only exposes the necessary details and functionalities.\n",
    "\n",
    "# In Python, abstraction can be achieved through abstract classes and abstract methods. \n",
    "# Abstract classes are classes that can't be instantiated and contain one or more abstract methods. \n",
    "# Abstract methods are methods that don't have an implementation in the abstract class and must be implemented in the subclass.\n",
    "\n",
    "from abc import ABC,abstractmethod\n",
    "\n",
    "class Vehicle:\n",
    "    @abstractmethod\n",
    "    def display_speed(self):\n",
    "        pass\n",
    "    \n",
    "    def seating_capacity(self):\n",
    "        pass\n",
    "\n",
    "class Car:\n",
    "    def display_speed(self):\n",
    "        return \"Car is displaying speed\"\n",
    "    \n",
    "    def seating_capacity(self):\n",
    "        return \"Minimum seating capacity in a Car is 4\"\n",
    "\n",
    "class Bike:\n",
    "    def display_speed(self):\n",
    "        return \"Bike is displaying speed\"\n",
    "    \n",
    "    def seating_capacity(self):\n",
    "        return \"Minimum seating capacity on a Bike is 2\"\n",
    "    \n",
    "c1 = Car()\n",
    "b1 = Bike()\n",
    "\n",
    "c1.display_speed(),c1.seating_capacity(),b1.display_speed(),b1.seating_capacity()\n"
   ]
  },
  {
   "cell_type": "code",
   "execution_count": 4,
   "id": "437cb969-2c8d-47ac-a8a4-7d153f27666e",
   "metadata": {},
   "outputs": [
    {
     "data": {
      "text/plain": [
       "200"
      ]
     },
     "execution_count": 4,
     "metadata": {},
     "output_type": "execute_result"
    }
   ],
   "source": [
    "# Sol 2:\n",
    "'''\n",
    "Abstraction and Encapsulation are two important concepts of object-oriented programming.\n",
    "\n",
    "Abstraction refers to the process of hiding unnecessary implementation details and exposing only the relevant information to the user. It is a way to handle complexity by breaking down the system into smaller, more manageable parts.\n",
    "\n",
    "Encapsulation refers to the practice of hiding the internal details of an object and exposing only the necessary information through methods. It is a way to protect the data from accidental manipulation.\n",
    "\n",
    "For example, consider a car as an object. \n",
    "Abstraction means hiding the complex implementation details of the car's engine, transmission, and other parts, and only exposing the necessary details such as speedometer, steering wheel, brakes, etc. to the user.\n",
    "\n",
    "Encapsulation means protecting the internal data of the car from accidental manipulation, such as setting the speed of the car to an unreasonable value that can harm the engine. \n",
    "\n",
    "In Python, we can use private attributes and methods to achieve encapsulation.\n",
    "'''\n",
    "\n",
    "# Example:\n",
    "\n",
    "class Car:\n",
    "    def __init__(self, speed):\n",
    "        self.__speed = speed # private attribute\n",
    "        \n",
    "    def set_speed(self, new_speed):\n",
    "        if new_speed > 0 and new_speed < 200: # limit speed to reasonable values\n",
    "            self.__speed = new_speed\n",
    "        \n",
    "    def get_speed(self):\n",
    "        return self.__speed\n",
    "\n",
    "car1 = Car(200)\n",
    "car1.get_speed()"
   ]
  },
  {
   "cell_type": "code",
   "execution_count": 5,
   "id": "ab5760a9-19b6-42cb-92ba-bf65e7d45cff",
   "metadata": {},
   "outputs": [],
   "source": [
    "car1.set_speed(250)"
   ]
  },
  {
   "cell_type": "code",
   "execution_count": 6,
   "id": "e0b006ac-0c7e-437a-a6d1-5e59c175ef6c",
   "metadata": {},
   "outputs": [
    {
     "data": {
      "text/plain": [
       "200"
      ]
     },
     "execution_count": 6,
     "metadata": {},
     "output_type": "execute_result"
    }
   ],
   "source": [
    "car1.get_speed()"
   ]
  },
  {
   "cell_type": "code",
   "execution_count": 7,
   "id": "a91d25ff-ecbe-438e-9545-fb8868915630",
   "metadata": {},
   "outputs": [],
   "source": [
    "car1.set_speed(180)"
   ]
  },
  {
   "cell_type": "code",
   "execution_count": 8,
   "id": "01ce4676-da4f-4647-8644-8fe247b18472",
   "metadata": {},
   "outputs": [
    {
     "data": {
      "text/plain": [
       "180"
      ]
     },
     "execution_count": 8,
     "metadata": {},
     "output_type": "execute_result"
    }
   ],
   "source": [
    "car1.get_speed()"
   ]
  },
  {
   "cell_type": "code",
   "execution_count": null,
   "id": "22ea4aaf-d17c-4388-916f-903fce7c23c6",
   "metadata": {},
   "outputs": [],
   "source": [
    "# Ans 3:\n",
    "'''\n",
    "The abc module in Python stands for \"Abstract Base Classes\". \n",
    "It is a built-in module in Python that provides a way to define abstract classes. \n",
    "An abstract class is a class that cannot be instantiated directly but provides a template for its derived classes to implement.\n",
    "\n",
    "The abc module provides the ABC class which is used as a decorator on a class definition to specify that the class is an abstract base class. \n",
    "It also provides various other classes and functions to define and use abstract classes.\n",
    "\n",
    "The abc module is used to enforce a particular class hierarchy and API in derived classes. \n",
    "\n",
    "It allows us to define a blueprint for a set of classes,\n",
    "which ensures that the derived classes provide the same interface or functionality as the abstract base class.\n",
    "'''\n",
    "\n"
   ]
  },
  {
   "cell_type": "code",
   "execution_count": 10,
   "id": "2d5426e6-56c1-4a0c-a862-da206d14a20e",
   "metadata": {},
   "outputs": [
    {
     "name": "stdout",
     "output_type": "stream",
     "text": [
      "Area of the circle: 113.04\n",
      "Perimeter of the circle: 37.68\n",
      "Area of the square: 16\n",
      "Perimeter of the square: 16\n"
     ]
    }
   ],
   "source": [
    "# Ans 4:\n",
    "\n",
    "'''\n",
    "We can achieve data abstraction in Python using abstract classes and interfaces. \n",
    "Abstract classes are classes that cannot be instantiated but can only be subclassed. \n",
    "They contain one or more abstract methods, which are methods without implementation. \n",
    "Subclasses of an abstract class must implement all of its abstract methods. \n",
    "This ensures that the subclasses have a consistent interface and can be used interchangeably wherever the abstract class is used.\n",
    "\n",
    "Interfaces are similar to abstract classes in that they define a set of methods without implementation. \n",
    "However, interfaces can be implemented by any class, not just subclasses of an abstract class. \n",
    "This allows more flexibility in designing classes that implement multiple interfaces.\n",
    "\n",
    "Using abstract classes and interfaces, we can define a high-level interface for a set of related classes without specifying their implementation details. \n",
    "This allows us to separate the interface from the implementation, making our code more modular and easier to maintain.\n",
    "'''\n",
    "\n",
    "# For example:\n",
    "\n",
    "# Importing ABC and abstractmethod from abc module\n",
    "from abc import ABC, abstractmethod\n",
    "\n",
    "# Creating abstract class Shape which inherits from ABC\n",
    "class Shape(ABC):\n",
    "    \n",
    "    # Creating abstract methods area and perimeter\n",
    "    @abstractmethod\n",
    "    def area(self):\n",
    "        pass\n",
    "    \n",
    "    @abstractmethod\n",
    "    def perimeter(self):\n",
    "        pass\n",
    "\n",
    "# Creating concrete class Circle which inherits from abstract class Shape\n",
    "class Circle(Shape):\n",
    "    \n",
    "    # Initializing Circle class with radius\n",
    "    def __init__(self, radius):\n",
    "        self.radius = radius\n",
    "        \n",
    "    # Implementing area method\n",
    "    def area(self):\n",
    "        return 3.14 * self.radius ** 2\n",
    "    \n",
    "    # Implementing perimeter method\n",
    "    def perimeter(self):\n",
    "        return 2 * 3.14 * self.radius\n",
    "\n",
    "# Creating concrete class Square which inherits from abstract class Shape\n",
    "class Square(Shape):\n",
    "    \n",
    "    # Initializing Square class with side\n",
    "    def __init__(self, side):\n",
    "        self.side = side\n",
    "        \n",
    "    # Implementing area method\n",
    "    def area(self):\n",
    "        return self.side ** 2\n",
    "    \n",
    "    # Implementing perimeter method\n",
    "    def perimeter(self):\n",
    "        return 4 * self.side\n",
    "\n",
    "circle = Circle(6)\n",
    "print(\"Area of the circle:\", circle.area())   \n",
    "print(\"Perimeter of the circle:\", circle.perimeter())\n",
    "\n",
    "square = Square(4)\n",
    "print(\"Area of the square:\", square.area())   \n",
    "print(\"Perimeter of the square:\", square.perimeter()) "
   ]
  },
  {
   "cell_type": "code",
   "execution_count": null,
   "id": "34731d1c-205b-4dfd-816a-32f604fc947b",
   "metadata": {},
   "outputs": [],
   "source": [
    "# Ans 5:\n",
    "\n",
    "'''\n",
    "No, we cannot create an instance of an abstract class directly. \n",
    "An abstract class is a blueprint for other classes. \n",
    "It cannot be instantiated on its own because it may contain abstract methods that have no implementation. \n",
    "The main purpose of an abstract class is to provide a common interface for its subclasses, which are expected to implement the abstract methods.\n",
    "\n",
    "In Python, if we try to create an instance of an abstract class, we will get a TypeError. \n",
    "To create an object of a subclass, we need to implement all the abstract methods of its parent abstract class.\n",
    "\n",
    "'''"
   ]
  },
  {
   "cell_type": "code",
   "execution_count": 11,
   "id": "5388744a-9c34-4290-bd8b-67bf989d546b",
   "metadata": {},
   "outputs": [
    {
     "ename": "TypeError",
     "evalue": "Can't instantiate abstract class Vehicle with abstract method start",
     "output_type": "error",
     "traceback": [
      "\u001b[0;31m---------------------------------------------------------------------------\u001b[0m",
      "\u001b[0;31mTypeError\u001b[0m                                 Traceback (most recent call last)",
      "Cell \u001b[0;32mIn[11], line 22\u001b[0m\n\u001b[1;32m     19\u001b[0m bike \u001b[38;5;241m=\u001b[39m Bike()\n\u001b[1;32m     21\u001b[0m \u001b[38;5;66;03m# This will raise an error because Vehicle is an abstract class and can't be instantiated\u001b[39;00m\n\u001b[0;32m---> 22\u001b[0m vehicle \u001b[38;5;241m=\u001b[39m \u001b[43mVehicle\u001b[49m\u001b[43m(\u001b[49m\u001b[43m)\u001b[49m\n",
      "\u001b[0;31mTypeError\u001b[0m: Can't instantiate abstract class Vehicle with abstract method start"
     ]
    }
   ],
   "source": [
    "# For example:\n",
    "from abc import ABC, abstractmethod\n",
    "\n",
    "class Vehicle(ABC):\n",
    "    @abstractmethod\n",
    "    def start(self):\n",
    "        pass\n",
    "\n",
    "class Car(Vehicle):\n",
    "    def start(self):\n",
    "        print(\"Starting the car engine...\")\n",
    "\n",
    "class Bike(Vehicle):\n",
    "    def start(self):\n",
    "        print(\"Starting the bike engine...\")\n",
    "\n",
    "# Creating instances of concrete classes\n",
    "car = Car()\n",
    "bike = Bike()\n",
    "\n",
    "# This will raise an error because Vehicle is an abstract class and can't be instantiated\n",
    "vehicle = Vehicle()\n"
   ]
  },
  {
   "cell_type": "code",
   "execution_count": null,
   "id": "a0d09454-a62f-4954-b37c-50e63d842667",
   "metadata": {},
   "outputs": [],
   "source": []
  }
 ],
 "metadata": {
  "kernelspec": {
   "display_name": "Python 3 (ipykernel)",
   "language": "python",
   "name": "python3"
  },
  "language_info": {
   "codemirror_mode": {
    "name": "ipython",
    "version": 3
   },
   "file_extension": ".py",
   "mimetype": "text/x-python",
   "name": "python",
   "nbconvert_exporter": "python",
   "pygments_lexer": "ipython3",
   "version": "3.10.8"
  }
 },
 "nbformat": 4,
 "nbformat_minor": 5
}
