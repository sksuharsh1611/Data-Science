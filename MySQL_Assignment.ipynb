{
 "cells": [
  {
   "cell_type": "code",
   "execution_count": null,
   "id": "6a8647eb-3a28-460d-80da-a91aa5f0f0c1",
   "metadata": {},
   "outputs": [],
   "source": [
    "Q1. What is a database? Differentiate between SQL and NoSQL databases.\n",
    "Q2. What is DDL? Explain why CREATE, DROP, ALTER, and TRUNCATE are used with an example.\n",
    "Q3. What is DML? Explain INSERT, UPDATE, and DELETE with an example.\n",
    "Q4. What is DQL? Explain SELECT with an example.\n",
    "Q5. Explain Primary Key and Foreign Key.\n",
    "Q6. Write a python code to connect MySQL to python. Explain the cursor() and execute() method.\n",
    "Q7. Give the order of execution of SQL clauses in an SQL query."
   ]
  },
  {
   "cell_type": "code",
   "execution_count": null,
   "id": "0ba91488-abbd-4777-a1b5-09d7327f0462",
   "metadata": {},
   "outputs": [],
   "source": [
    "# Ans 1:\n",
    "'''\n",
    "A database is a software system designed to store and manage large amounts of data in an organized manner. \n",
    "It provides a way to store, retrieve, update, and delete data efficiently and securely.\n",
    "\n",
    "SQL (Structured Query Language) and NoSQL (Not Only SQL) are two different types of database management systems.\n",
    "'''\n",
    "# SQL databases:\n",
    "\n",
    "'''\n",
    "* Use structured tables to store data with predefined schema.\n",
    "* Have strong consistency and enforce ACID (Atomicity, Consistency, Isolation, Durability) properties.\n",
    "* Require data to be normalized to minimize redundancy and ensure data integrity.\n",
    "* Scale vertically (by adding more hardware resources to a single server) rather than horizontally.\n",
    "* Use SQL as a standard language for querying and manipulating data.\n",
    "* Good for applications with complex queries, transactions, and relationships between data.\n",
    "'''\n",
    "\n",
    "# NoSQL databases:\n",
    "'''\n",
    "* Use flexible data models (such as document, key-value, graph) to store data with dynamic schema.\n",
    "* Have eventual consistency and often sacrifice ACID properties for performance and scalability.\n",
    "* Allow data to be denormalized and duplicated for faster access and higher availability.\n",
    "* Scale horizontally (by adding more servers to a distributed system) rather than vertically.\n",
    "* Use various query languages and APIs depending on the data model and use case.\n",
    "* Good for applications with high volume, velocity, and variety of data, and simpler queries.\n",
    "'''"
   ]
  },
  {
   "cell_type": "code",
   "execution_count": null,
   "id": "c9266b25-f74c-4aa9-9ba1-622c2b9308df",
   "metadata": {},
   "outputs": [],
   "source": [
    "# Ans 2:\n",
    "'''\n",
    "DDL (Data Definition Language) is a set of SQL commands used to define and manage the structure of a database.\n",
    "\n",
    "# CREATE : It is used to create new database objects, such as tables, indexes, and views. \n",
    "           For example, \"CREATE TABLE Customers (id INT, name VARCHAR(50), email VARCHAR(50))\" creates a new table named Customers with three columns.\n",
    "\n",
    "# DROP  : It is used to remove existing database objects, such as tables, indexes, and views. \n",
    "          For example, \"DROP TABLE Customers\" removes the Customers table from the database.\n",
    "\n",
    "# ALTER : It is used to modify the structure of existing database objects, such as tables, columns, and constraints.\n",
    "          For example, \"ALTER TABLE Customers ADD phone VARCHAR(20)\" adds a new column named phone to the Customers table.\n",
    "\n",
    "# TRUNCATE: It is used to remove all data from a table, while keeping its structure intact. \n",
    "            For example, \"TRUNCATE TABLE Customers\" removes all rows from the Customers table, but leaves its columns and constraints unchanged.\n",
    "'''"
   ]
  },
  {
   "cell_type": "code",
   "execution_count": null,
   "id": "34f039f8-af66-454f-87b5-21432d19c8be",
   "metadata": {},
   "outputs": [],
   "source": [
    "# Ans 3:\n",
    "'''\n",
    "DML (Data Manipulation Language) is a set of SQL commands used to manipulate the data stored in a database.\n",
    "\n",
    "# INSERT : It is used to add new data into a table. \n",
    "           For example, \"INSERT INTO Customers (id, name, email) VALUES (1, 'John Smith', 'john@example.com')\" adds a new row into the Customers table with the specified values.\n",
    "\n",
    "# UPDATE : It is used to modify existing data in a table. \n",
    "           For example, \"UPDATE Customers SET email = 'john.smith@example.com' WHERE id = 1\" changes the email address of the customer with ID 1 to the new value.\n",
    "\n",
    "# DELETE : It is used to remove existing data from a table. \n",
    "           For example, \"DELETE FROM Customers WHERE id = 1\" removes the row corresponding to the customer with ID 1 from the Customers table.\n",
    "'''"
   ]
  },
  {
   "cell_type": "code",
   "execution_count": null,
   "id": "83567e86-24c2-4cd4-be5b-b0eac6167f06",
   "metadata": {},
   "outputs": [],
   "source": [
    "# Ans 4:\n",
    "'''\n",
    "DQL (Data Query Language) is a set of SQL commands used to retrieve data from a database.\n",
    "\n",
    "SELECT is used to retrieve data from one or more tables based on specified conditions. \n",
    "\n",
    "For example:\n",
    "\"SELECT name, email FROM Customers WHERE id = 1\" \n",
    "It retrieves the name and email columns from the Customers table for the customer with ID 1. \n",
    "The WHERE clause is used to filter the rows based on the specified condition. \n",
    "The result of the SELECT statement is a set of rows that match the condition, which can be further sorted, grouped, and aggregated using other SQL clauses.\n",
    "'''"
   ]
  },
  {
   "cell_type": "code",
   "execution_count": null,
   "id": "78192f36-bc01-4c7b-86fa-a86ed591a9a9",
   "metadata": {},
   "outputs": [],
   "source": [
    "# Ans 5:\n",
    "'''\n",
    "# Primary Key: \n",
    ">> A primary key is a column or a set of columns in a database table that uniquely identifies each row. \n",
    ">> It is used to enforce data integrity and ensure that no two rows have the same values for the primary key columns.\n",
    ">> A primary key can be defined using the SQL constraint PRIMARY KEY.\n",
    "\n",
    "# Foreign Key:\n",
    ">> A foreign key is a column or a set of columns in a database table that refers to the primary key of another table. \n",
    ">> It establishes a relationship between two tables based on a shared key. \n",
    ">> The foreign key constraint ensures that the values in the referencing column(s) must match the values in the referenced column(s), or be null.\n",
    "'''"
   ]
  },
  {
   "cell_type": "code",
   "execution_count": null,
   "id": "4fe86f96-fbed-4483-9813-3ba3cf46a961",
   "metadata": {},
   "outputs": [],
   "source": [
    "# Ans 6:\n",
    "# The cursor() method creates a cursor object that allows you to execute SQL statements against the database. \n",
    "# The execute() method is used to execute a SQL query or command.\n",
    "\n",
    "\n",
    "import mysql.connector\n",
    "\n",
    "# Connect to the database\n",
    "mydb = mysql.connector.connect(\n",
    "  host=\"localhost\",\n",
    "  user=\"username\",\n",
    "  password=\"password\",\n",
    "  database=\"mydatabase\"\n",
    ")\n",
    "\n",
    "# Create a cursor object\n",
    "mycursor = mydb.cursor()\n",
    "\n",
    "# Execute a SQL query\n",
    "mycursor.execute(\"SELECT * FROM customers\")\n",
    "\n",
    "# Fetch the result set\n",
    "result = mycursor.fetchall()\n",
    "\n",
    "# Print the result set\n",
    "for row in result:\n",
    "  print(row)\n",
    "\n"
   ]
  },
  {
   "cell_type": "code",
   "execution_count": null,
   "id": "515f273a-1cbf-45af-a58b-00f40b967d8b",
   "metadata": {},
   "outputs": [],
   "source": [
    "# Ans 7:\n",
    "'''\n",
    "The order of execution of SQL clauses in an SQL query is:\n",
    "\n",
    "1. FROM clause: specifies the table(s) to retrieve data from.\n",
    "2. JOIN clause: combines data from multiple tables into a single result set.\n",
    "3. WHERE clause: filters the rows in the result set based on a specified condition.\n",
    "4. GROUP BY clause: groups the rows in the result set by one or more columns.\n",
    "5. HAVING clause: filters the groups in the result set based on a specified condition.\n",
    "6. SELECT clause: specifies the columns to retrieve from the result set.\n",
    "7. DISTINCT clause: removes duplicates from the result set.\n",
    "8. ORDER BY clause: sorts the rows in the result set based on one or more columns.\n",
    "9. LIMIT clause: limits the number of rows in the result set to a specified number.\n",
    "\n",
    "Note that not all clauses are required in every SQL query.\n",
    "Some clauses can appear in a different order depending on the specific requirements of the query.\n",
    "'''"
   ]
  },
  {
   "cell_type": "code",
   "execution_count": null,
   "id": "af709737-c326-463a-9688-71560b15f6b5",
   "metadata": {},
   "outputs": [],
   "source": []
  }
 ],
 "metadata": {
  "kernelspec": {
   "display_name": "Python 3 (ipykernel)",
   "language": "python",
   "name": "python3"
  },
  "language_info": {
   "codemirror_mode": {
    "name": "ipython",
    "version": 3
   },
   "file_extension": ".py",
   "mimetype": "text/x-python",
   "name": "python",
   "nbconvert_exporter": "python",
   "pygments_lexer": "ipython3",
   "version": "3.10.8"
  }
 },
 "nbformat": 4,
 "nbformat_minor": 5
}
