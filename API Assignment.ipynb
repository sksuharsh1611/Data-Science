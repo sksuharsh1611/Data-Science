{
 "cells": [
  {
   "cell_type": "code",
   "execution_count": 1,
   "id": "b0d288d4-d83e-4e00-b8e4-2e06122b7891",
   "metadata": {},
   "outputs": [
    {
     "data": {
      "text/plain": [
       "1.0"
      ]
     },
     "execution_count": 1,
     "metadata": {},
     "output_type": "execute_result"
    }
   ],
   "source": [
    "# Ans 1:\n",
    "# An API, or Application Programming Interface, is a set of protocols, routines, \n",
    "# and tools used for building software applications. In simpler terms, an API allows different software programs to communicate with each other and share data in a structured way.\n",
    "\n",
    "# For example of API in real-life:\n",
    "# Google Search engine\n",
    "# Google Maps API.\n",
    "# Zomato/ Swiggy : API to display real-time data/ location etc\n",
    "# Gpay/Phonpe : API used to connect to bank servers to fetch real-time data and do transactions"
   ]
  },
  {
   "cell_type": "code",
   "execution_count": 2,
   "id": "8d194484-6103-4995-943f-89a94dcdb36e",
   "metadata": {},
   "outputs": [],
   "source": [
    "# # Ans 2:\n",
    "# Advantages of using API:\n",
    "\n",
    "# 1. Reusability: APIs are designed to be reusable, which means that developers can use them to build multiple applications without having to write the same code from scratch.\n",
    "# 2. Faster development: APIs can help developers to create applications faster by allowing them to leverage existing functionality rather than building it from scratch.\n",
    "# 3. Increased efficiency: APIs can help to streamline business processes by automating tasks and reducing the need for manual intervention.\n",
    "# 4. Better scalability: APIs can help applications to scale more easily by providing a structured way to access and manipulate data.\n",
    "# 5. Improved user experience: APIs can enhance the user experience by enabling applications to provide more useful and personalized information to users.\n",
    "\n",
    "\n",
    "# Disadvantages of using API:\n",
    "\n",
    "# 1. Security risks: APIs can create security vulnerabilities if not properly secured, leading to data breaches and other security issues.\n",
    "# 2. Dependency on third-party APIs: Applications that rely on third-party APIs are vulnerable to service outages and other issues if the API provider experiences downtime or other problems.\n",
    "# 3. Complexity: APIs can be complex and difficult to understand, particularly for non-technical stakeholders.\n",
    "# 4. Cost: Some APIs may come with usage fees, particularly those that provide access to premium features or data.\n",
    "# 5. Compatibility issues: APIs may be incompatible with some programming languages or development environments, which can limit their usefulness in certain contexts."
   ]
  },
  {
   "cell_type": "code",
   "execution_count": 3,
   "id": "9ee1f5d1-1247-46f4-bc1b-938cbadbe299",
   "metadata": {},
   "outputs": [],
   "source": [
    "# # Ans 3:\n",
    "#  A Web API,(Web Application Programming Interface), is an API that is designed to be used specifically over the web. \n",
    "#  It uses the HTTP protocol to send and receive data and is typically accessed using URLs.\n",
    "\n",
    "\n",
    "# The key difference between API and Web API is that Web API is designed specifically for web-based applications, \n",
    "# >> whereas API is a more general term that can refer to any type of interface used for software development.\n",
    "\n",
    "# Web APIs are accessed over the internet and use web-based protocols, \n",
    "#  >> while APIs can be accessed using any programming language or development environment and may use a variety of different protocols.\n",
    "\n",
    "# Web APIs are designed to be used with web technologies such as HTML, JavaScript, and CSS. \n",
    "#  >> While, APIs can be accessed using any programming language or development environment."
   ]
  },
  {
   "cell_type": "code",
   "execution_count": null,
   "id": "a7202e2f-2121-4952-9e02-77010ea7849f",
   "metadata": {},
   "outputs": [],
   "source": [
    "# Ans 4: REST and SOAP are two different architectural styles used for building web services.\n",
    "'''\n",
    "REST (Representational State Transfer) is an architectural style that is based on the HTTP protocol. \n",
    "It is designed to be simple and lightweight, and it uses standard HTTP methods such as GET, POST, PUT, and DELETE to perform operations on resources. \n",
    "RESTful services expose a set of endpoints (URLs) that represent resources, and clients can interact with these resources by making HTTP requests to the appropriate endpoints. \n",
    "REST is stateless, meaning that each request contains all the information necessary to complete the operation, and it does not rely on server-side state.\n",
    "\n",
    "SOAP (Simple Object Access Protocol) is another architectural style used for building web services. \n",
    "It is based on XML and provides a standardized way to exchange structured data between different systems. \n",
    "SOAP services define a set of operations that can be performed, and clients interact with these operations by sending SOAP messages over HTTP or other transport protocols. \n",
    "SOAP services rely on a formal contract, known as a Web Services Description Language (WSDL), that describes the service and its operations.\n",
    "'''\n",
    "\n",
    "'''\n",
    "REST is simpler and more lightweight, \n",
    ">>whereas SOAP is more complex and provides a more standardized approach to building web services.\n",
    "\n",
    "REST is typically used for building web applications that need to interact with web-based resources, such as social media feeds or weather data. \n",
    " >>SOAP, on the other hand, is often used for building enterprise-level applications that need to exchange complex data structures between different systems.\n",
    "'''\n",
    "\n",
    "# Some of SOAP shortcomings are:\n",
    "\n",
    "# 1. Complexity: SOAP is a highly complex protocol that requires a lot of overhead to be implemented properly. This can make it difficult and time-consuming to use and maintain.\n",
    "\n",
    "# 2. Performance: SOAP can be slower than other messaging protocols due to its use of XML for message encoding, which can increase the size of messages and decrease performance.\n",
    "\n",
    "# 3. Limited compatibility: SOAP is not compatible with all programming languages and platforms, which can make it difficult to use in certain contexts.\n",
    "\n",
    "# 4. Difficulty with firewall traversal: SOAP messages are often blocked by firewalls, which can make it difficult to use in some network configurations.\n",
    "\n",
    "# 5. Limited support for RESTful APIs: SOAP was not designed with RESTful APIs in mind, which can make it difficult to use in contexts where a RESTful approach is preferred.\n",
    "\n",
    "# 6. Resource-intensive: SOAP requires more resources, such as processing power and memory, compared to other messaging protocols, which can make it less suitable for use in resource-constrained environments.\n"
   ]
  },
  {
   "cell_type": "code",
   "execution_count": null,
   "id": "41b00347-1169-4ed7-84c5-d31cc03b9ae9",
   "metadata": {},
   "outputs": [],
   "source": [
    "# Ans 5:The main differences between REST AND SOAP are based on following parameters:\n",
    "\n",
    "\n",
    "# 1. Protocol: REST uses HTTP, while SOAP can use any messaging protocol such as HTTP, SMTP, TCP, or JMS.\n",
    "\n",
    "# 2. Data format: REST typically uses JSON or XML, while SOAP uses XML.\n",
    "\n",
    "# 3. Messaging style: REST is designed to be stateless and uses a request-response model, while SOAP can be stateful or stateless and supports different messaging patterns such as request-response, one-way, and callback.\n",
    "\n",
    "# 4. Caching: REST supports caching, while SOAP does not.\n",
    "\n",
    "# 5. Security: REST supports various security mechanisms, such as OAuth, SSL, and HTTP authentication, while SOAP has its own security protocol, WS-Security.\n",
    "\n",
    "# 6. Complexity: REST is simpler and more lightweight, while SOAP is more complex and provides a more standardized approach to building web services.\n",
    "\n",
    "# 7. Performance: REST is typically faster and more efficient than SOAP due to its simpler messaging format and support for caching.\n",
    "\n",
    "# 8. Compatibility: REST is more widely supported by different programming languages and platforms, while SOAP can be less compatible in some contexts.\n",
    "\n",
    "\n",
    "'''\n",
    "The choice between REST and SOAP will depend on the specific needs and requirements of the application being built.\n",
    "'''"
   ]
  }
 ],
 "metadata": {
  "kernelspec": {
   "display_name": "Python 3 (ipykernel)",
   "language": "python",
   "name": "python3"
  },
  "language_info": {
   "codemirror_mode": {
    "name": "ipython",
    "version": 3
   },
   "file_extension": ".py",
   "mimetype": "text/x-python",
   "name": "python",
   "nbconvert_exporter": "python",
   "pygments_lexer": "ipython3",
   "version": "3.10.8"
  }
 },
 "nbformat": 4,
 "nbformat_minor": 5
}
