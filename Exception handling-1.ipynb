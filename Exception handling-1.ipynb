{
 "cells": [
  {
   "cell_type": "code",
   "execution_count": null,
   "id": "2c14d003-e169-438b-8c59-c1d82091e55f",
   "metadata": {},
   "outputs": [],
   "source": [
    "1. What is exception in python? Write the difference between exceptions and syntax errors.\n",
    "2. What happens when an exception is not handled ? Explain with an example.\n",
    "3. Which python statement are used to catch and handle exceptions ? Explain with an example.\n",
    "4. Explain with an example:\n",
    "    a. try an else\n",
    "    b. finally\n",
    "    c. raise\n",
    "5. What are custom exceptions in python? Why do we need custom exceptions ? Explain with an example.\n",
    "6. Create a custom exception class. Use this class to handle an exception.\n"
   ]
  },
  {
   "cell_type": "code",
   "execution_count": null,
   "id": "58194760-8320-47ea-a1ba-effdf95885df",
   "metadata": {},
   "outputs": [],
   "source": [
    "# Ans 1:\n",
    "'''\n",
    "In Python, an exception is an error that occurs during program execution, causing the program to terminate abruptly. \n",
    "Exceptions are raised when an error occurs that is not handled by the program's code.\n",
    "\n",
    "Some key differences between exceptions and syntax errors:\n",
    "\n",
    "1. Cause: Syntax errors are caused by mistakes in the code's syntax, such as missing colons, parentheses, or quotes. \n",
    "          Exceptions, on the other hand, occur when the code is syntactically correct, but something unexpected happens at runtime.\n",
    "\n",
    "2. Detection: Syntax errors are detected by the interpreter when it parses the code, before the program is executed. \n",
    "              Exceptions, on the other hand, are detected during the program's execution.\n",
    "\n",
    "3. Handling: Syntax errors cannot be handled programmatically because the program cannot even run when they occur. \n",
    "             Exceptions, on the other hand, can be handled using try-except blocks or other methods, allowing the program to recover from the error and continue executing.\n",
    "\n",
    "4. Examples: Some common examples of syntax errors include misspelled keywords, missing parentheses, or using an incorrect operator. \n",
    "             Some common examples of exceptions include attempting to divide by zero, accessing an invalid index in a list, or attempting to open a non-existent file.\n",
    "\n",
    "'''"
   ]
  },
  {
   "cell_type": "code",
   "execution_count": null,
   "id": "f4f7f7f3-eb71-4b78-ba0d-3dde36445e4b",
   "metadata": {},
   "outputs": [],
   "source": [
    "# Ans 2:\n",
    "'''\n",
    "When an error occurs while a program is running, it is called an exception. \n",
    "If the exception is not handled, the program will stop running and display an error message. \n",
    "It's like when we make a mistake while doing homework, if we don't fix it, we won't get the correct answer. \n",
    "To fix exceptions, we need to handle them by writing code that will deal with the problem, so that the program can keep running without stopping abruptly.\n",
    "\n",
    "'''\n"
   ]
  },
  {
   "cell_type": "code",
   "execution_count": 1,
   "id": "07d8492e-791c-41a9-9ddd-38c01b52099f",
   "metadata": {},
   "outputs": [
    {
     "name": "stdin",
     "output_type": "stream",
     "text": [
      "Enter the first number:  1\n",
      "Enter the second number:  0\n"
     ]
    },
    {
     "ename": "ZeroDivisionError",
     "evalue": "division by zero",
     "output_type": "error",
     "traceback": [
      "\u001b[0;31m---------------------------------------------------------------------------\u001b[0m",
      "\u001b[0;31mZeroDivisionError\u001b[0m                         Traceback (most recent call last)",
      "Cell \u001b[0;32mIn[1], line 6\u001b[0m\n\u001b[1;32m      3\u001b[0m num1 \u001b[38;5;241m=\u001b[39m \u001b[38;5;28mint\u001b[39m(\u001b[38;5;28minput\u001b[39m(\u001b[38;5;124m\"\u001b[39m\u001b[38;5;124mEnter the first number: \u001b[39m\u001b[38;5;124m\"\u001b[39m))\n\u001b[1;32m      4\u001b[0m num2 \u001b[38;5;241m=\u001b[39m \u001b[38;5;28mint\u001b[39m(\u001b[38;5;28minput\u001b[39m(\u001b[38;5;124m\"\u001b[39m\u001b[38;5;124mEnter the second number: \u001b[39m\u001b[38;5;124m\"\u001b[39m))\n\u001b[0;32m----> 6\u001b[0m result \u001b[38;5;241m=\u001b[39m \u001b[43mnum1\u001b[49m\u001b[43m \u001b[49m\u001b[38;5;241;43m/\u001b[39;49m\u001b[43m \u001b[49m\u001b[43mnum2\u001b[49m\n\u001b[1;32m      8\u001b[0m \u001b[38;5;28mprint\u001b[39m(\u001b[38;5;124m\"\u001b[39m\u001b[38;5;124mThe result of the division is: \u001b[39m\u001b[38;5;124m\"\u001b[39m, result)\n",
      "\u001b[0;31mZeroDivisionError\u001b[0m: division by zero"
     ]
    }
   ],
   "source": [
    "# for example:\n",
    "# program to divide two numbers\n",
    "num1 = int(input(\"Enter the first number: \"))\n",
    "num2 = int(input(\"Enter the second number: \"))\n",
    "\n",
    "result = num1 / num2\n",
    "\n",
    "print(\"The result of the division is: \", result)\n",
    "\n",
    "'''\n",
    "if the user enters 0 as the second number, a ZeroDivisionError will be raised because dividing any number by 0 is undefined. \n",
    "Since this exception is not handled in the code, the program will terminate with an error message like this:\n",
    "'''"
   ]
  },
  {
   "cell_type": "code",
   "execution_count": 4,
   "id": "ad6f4249-1ec2-49f0-bc1c-61461f73d5ed",
   "metadata": {},
   "outputs": [
    {
     "name": "stdin",
     "output_type": "stream",
     "text": [
      "Enter the first number:  4\n",
      "Enter the second number:  0\n"
     ]
    },
    {
     "name": "stdout",
     "output_type": "stream",
     "text": [
      "Error: Cannot divide by zero : division by zero error\n"
     ]
    }
   ],
   "source": [
    "# Ans 3:\n",
    "\n",
    "# n Python, we can use the try-except statement to catch and handle exceptions.\n",
    "\n",
    "# for example:\n",
    "num1 = int(input(\"Enter the first number: \"))\n",
    "num2 = int(input(\"Enter the second number: \"))\n",
    "\n",
    "try:\n",
    "    result = num1 / num2\n",
    "    print(\"The result of the division is: \", result)\n",
    "except ZeroDivisionError as e:\n",
    "    print(\"Error: Cannot divide by zero :\",e,\"error\")\n"
   ]
  },
  {
   "cell_type": "code",
   "execution_count": 6,
   "id": "c9612b1b-42d4-4867-969f-96149268012b",
   "metadata": {},
   "outputs": [
    {
     "name": "stdin",
     "output_type": "stream",
     "text": [
      "Enter the first number:  4\n",
      "Enter the second number:  2\n"
     ]
    },
    {
     "name": "stdout",
     "output_type": "stream",
     "text": [
      "The result of the division is:  2.0\n"
     ]
    }
   ],
   "source": [
    "# Ans 4:\n",
    "\n",
    "'''\n",
    "a. try-else:\n",
    "    The try-else statement allows us to specify a block of code to execute if no exception occurs in the try block. \n",
    "'''\n",
    "# For example:\n",
    "try:\n",
    "    num1 = int(input(\"Enter the first number: \"))\n",
    "    num2 = int(input(\"Enter the second number: \"))\n",
    "    result = num1 / num2\n",
    "except ZeroDivisionError:\n",
    "    print(\"Error: Cannot divide by zero\")\n",
    "else:\n",
    "    print(\"The result of the division is: \", result)"
   ]
  },
  {
   "cell_type": "code",
   "execution_count": 7,
   "id": "c6da8dd2-be9e-4ce5-b957-e24b49b6db56",
   "metadata": {},
   "outputs": [],
   "source": [
    "'''\n",
    "b. finally statement:\n",
    "    The finally statement is used to specify a block of code \n",
    "    that will be executed no matter what, whether an exception is raised or not. \n",
    "'''\n",
    "# for example:\n",
    "try:\n",
    "    file = open(\"example.txt\", \"r\")\n",
    "    # code to read the file\n",
    "except IOError:\n",
    "    print(\"Error: Cannot read the file\")\n",
    "finally:\n",
    "    file.close()\n",
    "\n",
    "    \n",
    "'''\n",
    "In this example, we're trying to open a file and read its contents. \n",
    "If the file does not exist or is not accessible, an IOError exception will be raised and caught by the except block. \n",
    "But regardless of whether an exception occurs or not, we want to make sure that the file is closed properly. \n",
    "That's why we put the file.close() statement in the finally block.\n",
    "'''"
   ]
  },
  {
   "cell_type": "code",
   "execution_count": 8,
   "id": "d9c09e25-a5c9-4555-bc91-b475ef121b7e",
   "metadata": {},
   "outputs": [
    {
     "ename": "ZeroDivisionError",
     "evalue": "Error: Cannot divide by zero",
     "output_type": "error",
     "traceback": [
      "\u001b[0;31m---------------------------------------------------------------------------\u001b[0m",
      "\u001b[0;31mZeroDivisionError\u001b[0m                         Traceback (most recent call last)",
      "Cell \u001b[0;32mIn[8], line 13\u001b[0m\n\u001b[1;32m     10\u001b[0m         \u001b[38;5;28;01mraise\u001b[39;00m \u001b[38;5;167;01mZeroDivisionError\u001b[39;00m(\u001b[38;5;124m\"\u001b[39m\u001b[38;5;124mError: Cannot divide by zero\u001b[39m\u001b[38;5;124m\"\u001b[39m)\n\u001b[1;32m     11\u001b[0m     \u001b[38;5;28;01mreturn\u001b[39;00m num1 \u001b[38;5;241m/\u001b[39m num2\n\u001b[0;32m---> 13\u001b[0m result \u001b[38;5;241m=\u001b[39m \u001b[43mdivide\u001b[49m\u001b[43m(\u001b[49m\u001b[38;5;241;43m10\u001b[39;49m\u001b[43m,\u001b[49m\u001b[43m \u001b[49m\u001b[38;5;241;43m0\u001b[39;49m\u001b[43m)\u001b[49m\n",
      "Cell \u001b[0;32mIn[8], line 10\u001b[0m, in \u001b[0;36mdivide\u001b[0;34m(num1, num2)\u001b[0m\n\u001b[1;32m      8\u001b[0m \u001b[38;5;28;01mdef\u001b[39;00m \u001b[38;5;21mdivide\u001b[39m(num1, num2):\n\u001b[1;32m      9\u001b[0m     \u001b[38;5;28;01mif\u001b[39;00m num2 \u001b[38;5;241m==\u001b[39m \u001b[38;5;241m0\u001b[39m:\n\u001b[0;32m---> 10\u001b[0m         \u001b[38;5;28;01mraise\u001b[39;00m \u001b[38;5;167;01mZeroDivisionError\u001b[39;00m(\u001b[38;5;124m\"\u001b[39m\u001b[38;5;124mError: Cannot divide by zero\u001b[39m\u001b[38;5;124m\"\u001b[39m)\n\u001b[1;32m     11\u001b[0m     \u001b[38;5;28;01mreturn\u001b[39;00m num1 \u001b[38;5;241m/\u001b[39m num2\n",
      "\u001b[0;31mZeroDivisionError\u001b[0m: Error: Cannot divide by zero"
     ]
    }
   ],
   "source": [
    "'''\n",
    "c. raise:\n",
    "    The raise statement is used to explicitly raise an exception. \n",
    "    We can use this statement when we want to signal an exceptional condition in our code.\n",
    "'''\n",
    "\n",
    "# for example:\n",
    "def divide(num1, num2):\n",
    "    if num2 == 0:\n",
    "        raise ZeroDivisionError(\"Error: Cannot divide by zero\")\n",
    "    return num1 / num2\n",
    "\n",
    "result = divide(10, 0)"
   ]
  },
  {
   "cell_type": "code",
   "execution_count": 17,
   "id": "3aeacfa3-79df-4803-8092-ae11373eb288",
   "metadata": {},
   "outputs": [
    {
     "name": "stdin",
     "output_type": "stream",
     "text": [
      "Enter your name:  Suharsh1\n"
     ]
    },
    {
     "name": "stdout",
     "output_type": "stream",
     "text": [
      "Error: Invalid name\n"
     ]
    }
   ],
   "source": [
    "# Ans 5:\n",
    "'''\n",
    "In Python, we can define our own custom exceptions by creating a new class that inherits from the built-in Exception class. \n",
    "Custom exceptions are useful when we want to raise an exception that is specific to our program or application.\n",
    "\n",
    "We need custom exceptions when we want to raise an exception that is not covered by the built-in exception classes. \n",
    "By defining our own exception classes, we can create more descriptive error messages that are specific to our program and help users understand what went wrong.\n",
    "'''\n",
    "# for example:\n",
    "\n",
    "# Define a custom exception class called InvalidNameException\n",
    "class InvalidNameException(Exception):\n",
    "    pass\n",
    "\n",
    "# Define a function to greet the user\n",
    "def greet(name):\n",
    "    # Check if the name contains only alphabets\n",
    "    if not name.isalpha():\n",
    "        # If it contains anything other than alphabets, raise an InvalidNameException with a custom error message\n",
    "        raise InvalidNameException(\"Error: Invalid name\")\n",
    "    else:\n",
    "        # If the name is valid, greet the user\n",
    "        print(f\"Hello, How are you {name}!\")\n",
    "\n",
    "try:\n",
    "    # Get the user's name as input\n",
    "    name = input(\"Enter your name: \")\n",
    "    # Call the greet function with the user's name\n",
    "    greet(name)\n",
    "# Catch the InvalidNameException and print its error message\n",
    "except InvalidNameException as e:\n",
    "    # Convert the exception object to a string and print it as the error message\n",
    "    print(str(e))\n",
    "\n"
   ]
  },
  {
   "cell_type": "code",
   "execution_count": 16,
   "id": "6e85694e-8b71-46d8-8148-00a84ee3416b",
   "metadata": {},
   "outputs": [
    {
     "name": "stdin",
     "output_type": "stream",
     "text": [
      "Enter a number:  -5\n"
     ]
    },
    {
     "name": "stdout",
     "output_type": "stream",
     "text": [
      "Error: Negative number not allowed\n"
     ]
    }
   ],
   "source": [
    "# Ans 6: \n",
    "\n",
    "# Define a custom exception class called NegativeNumberException\n",
    "class NegativeNumberException(Exception):\n",
    "    # Constructor that takes an optional error message\n",
    "    def __init__(self, message=\"Error: Negative number not allowed\"):\n",
    "        self.message = message\n",
    "        # Call the superclass constructor with the error message\n",
    "        super().__init__(self.message)\n",
    "\n",
    "# Define a function to calculate the square of a number\n",
    "def calculate_square_root(number):\n",
    "    # Check if the number is negative\n",
    "    if number < 0:\n",
    "        # If it is, raise a NegativeNumberException with a custom error message\n",
    "        raise NegativeNumberException\n",
    "    else:\n",
    "        # If it's not, calculate the square and return the result\n",
    "        return number ** 2\n",
    "\n",
    "try:\n",
    "    # Get the user's input as a number\n",
    "    number = int(input(\"Enter a number: \"))\n",
    "    # Calculate the square root of the number\n",
    "    result = calculate_square_root(number)\n",
    "    # Print the result\n",
    "    print(\"The square root of\", number, \"is\", result)\n",
    "# Catch the NegativeNumberException and print its error message\n",
    "except NegativeNumberException as e:\n",
    "    # Convert the exception object to a string and print it\n",
    "    print(str(e))\n"
   ]
  },
  {
   "cell_type": "code",
   "execution_count": null,
   "id": "cc996c04-3bff-4ab8-b405-d5a2f9a92671",
   "metadata": {},
   "outputs": [],
   "source": []
  }
 ],
 "metadata": {
  "kernelspec": {
   "display_name": "Python 3 (ipykernel)",
   "language": "python",
   "name": "python3"
  },
  "language_info": {
   "codemirror_mode": {
    "name": "ipython",
    "version": 3
   },
   "file_extension": ".py",
   "mimetype": "text/x-python",
   "name": "python",
   "nbconvert_exporter": "python",
   "pygments_lexer": "ipython3",
   "version": "3.10.8"
  }
 },
 "nbformat": 4,
 "nbformat_minor": 5
}
